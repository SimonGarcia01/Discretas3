{
 "cells": [
  {
   "cell_type": "code",
   "execution_count": 1,
   "id": "69e1fe58",
   "metadata": {},
   "outputs": [],
   "source": [
    "from pyformlang.fst import FST"
   ]
  },
  {
   "cell_type": "code",
   "execution_count": 2,
   "id": "ffa5b0ac",
   "metadata": {},
   "outputs": [],
   "source": [
    "transducer = FST()"
   ]
  },
  {
   "cell_type": "code",
   "execution_count": 3,
   "id": "fc886f8e",
   "metadata": {},
   "outputs": [],
   "source": [
    "transducer.add_start_state(\"start\")"
   ]
  },
  {
   "cell_type": "code",
   "execution_count": 17,
   "id": "53dcc51e",
   "metadata": {},
   "outputs": [],
   "source": [
    "transducer.add_transitions([\n",
    "    ('start', '1', 'accept', ['un']),\n",
    "    ('start', '2', 'accept', ['deux']),\n",
    "    ('start', '3', 'accept', ['trois']),\n",
    "    ('start', '4', 'accept', ['quatre']),\n",
    "    ('start', '5', 'accept', ['cinq']),\n",
    "    ('start', '6', 'accept', ['six']),\n",
    "    ('start', '7', 'accept', ['sept']),\n",
    "    ('start', '8', 'accept', ['huit']),\n",
    "    ('start', '9', 'accept', ['neuf']),\n",
    "    \n",
    "    #10s\n",
    "    ('start', '1', '10s', ['']),\n",
    "    ('10s', '0', 'accept', ['dix']),\n",
    "    ('10s', '1', 'accept', ['onze']),\n",
    "    ('10s', '2', 'accept', ['douze']),\n",
    "    ('10s', '3', 'accept', ['treize']),\n",
    "    ('10s', '4', 'accept', ['quatorze']),\n",
    "    ('10s', '5', 'accept', ['quize']),\n",
    "    ('10s', '6', 'accept', ['seize']),\n",
    "    ('10s', '7', 'accept', ['dix-sept']),\n",
    "    ('10s', '8', 'accept', ['dix-huit']),\n",
    "    ('10s', '9', 'accept', ['dix-neuf']),\n",
    "\n",
    "    #20s\n",
    "    ('start', '2', '20s', ['']),\n",
    "    ('20s', '0', 'accept', ['vingt']),\n",
    "    ('20s', '1', 'accept', ['vingt-et-un']),\n",
    "    ('20s', 'epsilon', 'start', ['vingt-']),\n",
    "\n",
    "    #30s\n",
    "    ('start', '3', '30s', ['']),\n",
    "    ('30s', '0', 'accept', ['trente']),\n",
    "    ('30s', '1', 'start', ['trente-et-un']),\n",
    "    ('30s', 'epsilon', 'start', ['trente-']),\n",
    "\n",
    "    #40s\n",
    "    ('start', '4', '40s', ['']),\n",
    "    ('40s', '0', 'accept', ['quarante']),\n",
    "    ('40s', '1', 'accept', ['quarante-et-un']),\n",
    "    ('40s', 'epsilon', 'start', ['quarante-']),\n",
    "\n",
    "    #50s\n",
    "    ('start', '5', '50s', ['']),\n",
    "    ('50s', '0', 'accept', ['cinquante']),\n",
    "    ('50s', '1', 'accept', ['cinquante-et-un']),\n",
    "    ('50s', 'epsilon', 'start', ['cinquante-']),\n",
    "    \n",
    "    #60s\n",
    "    ('start', '6', '60s', ['']),\n",
    "    ('60s', '0', 'accept', ['soixante']),\n",
    "    ('60s', '1', 'accept', ['soixante-et-un']),\n",
    "    ('60s', 'epsilon', 'start', ['soixante-']),\n",
    "\n",
    "    #70s\n",
    "    ('start', '7', '70s', ['']),\n",
    "    ('70s', '0', 'accept', ['soixante']),\n",
    "    ('70s', '1', 'accept', ['soixante-et-onze']),\n",
    "    ('70s', 'epsilon', '10s', ['soixante-']),\n",
    "\n",
    "    #80s\n",
    "    ('start', '8', '80s', ['']),\n",
    "    ('80s', '0', 'accept', ['quatre-vingts']),\n",
    "    ('80s', 'epsilon', 'start', ['quatre-vingt-']),\n",
    "\n",
    "    #90s\n",
    "    ('start', '9', '90s', ['']),\n",
    "    ('90s', 'epsilon', '10s', ['quatre-vingt-']),\n",
    "])"
   ]
  },
  {
   "cell_type": "code",
   "execution_count": 18,
   "id": "6d74b49c",
   "metadata": {},
   "outputs": [],
   "source": [
    "transducer.add_final_state(\"accept\")\n",
    "# transducer.add_final_state(\"single\")\n",
    "# transducer.add_final_state(\"single\")\n",
    "# transducer.add_final_state(\"a10s\")\n",
    "# transducer.add_final_state(\"a20s\")\n",
    "# transducer.add_final_state(\"a30s\")\n",
    "# transducer.add_final_state(\"a40s\")\n",
    "# transducer.add_final_state(\"a50s\")\n",
    "# transducer.add_final_state(\"a60s\")\n",
    "# transducer.add_final_state(\"a70s\")\n"
   ]
  },
  {
   "cell_type": "code",
   "execution_count": 24,
   "id": "3a823657",
   "metadata": {},
   "outputs": [
    {
     "name": "stdout",
     "output_type": "stream",
     "text": [
      "21 - vingt-un\n",
      "21 - vingt-\n",
      "21 - vingt-et-un\n"
     ]
    }
   ],
   "source": [
    "results = transducer.translate(str(\"21\"))\n",
    "for r in results:\n",
    "    print(f\"{\"21\"} - {''.join(r)}\")"
   ]
  },
  {
   "cell_type": "code",
   "execution_count": 26,
   "id": "0b2687bb",
   "metadata": {},
   "outputs": [
    {
     "name": "stdout",
     "output_type": "stream",
     "text": [
      "71 - soixante-onze\n",
      "71 - soixante-et-onze\n"
     ]
    }
   ],
   "source": [
    "results = transducer.translate(str(\"71\"))\n",
    "for r in results:\n",
    "    print(f\"{\"71\"} - {''.join(r)}\")"
   ]
  },
  {
   "cell_type": "code",
   "execution_count": 25,
   "id": "7dae1a27",
   "metadata": {},
   "outputs": [
    {
     "name": "stdout",
     "output_type": "stream",
     "text": [
      "40 - quarante\n"
     ]
    }
   ],
   "source": [
    "results = transducer.translate(str(\"40\"))\n",
    "for r in results:\n",
    "    print(f\"{\"40\"} - {''.join(r)}\")"
   ]
  },
  {
   "cell_type": "code",
   "execution_count": 29,
   "id": "5077ad32",
   "metadata": {},
   "outputs": [
    {
     "name": "stdout",
     "output_type": "stream",
     "text": [
      "91 - quatre-vingt-onze\n"
     ]
    }
   ],
   "source": [
    "results = transducer.translate(str(\"91\"))\n",
    "for r in results:\n",
    "    print(f\"{\"91\"} - {''.join(r)}\")"
   ]
  },
  {
   "cell_type": "code",
   "execution_count": 32,
   "id": "4730cbda",
   "metadata": {},
   "outputs": [
    {
     "name": "stdout",
     "output_type": "stream",
     "text": [
      "70 - soixante-dix\n",
      "70 - soixante\n"
     ]
    }
   ],
   "source": [
    "results = transducer.translate(str(\"70\"))\n",
    "for r in results:\n",
    "    print(f\"{\"70\"} - {''.join(r)}\")"
   ]
  },
  {
   "cell_type": "code",
   "execution_count": 33,
   "id": "4d0c7409",
   "metadata": {},
   "outputs": [
    {
     "name": "stdout",
     "output_type": "stream",
     "text": [
      "1 - un\n",
      "1 - \n",
      "2 - deux\n",
      "3 - trois\n",
      "4 - quatre\n",
      "5 - cinq\n",
      "6 - six\n",
      "7 - sept\n",
      "8 - huit\n",
      "9 - neuf\n",
      "10 - dix\n",
      "11 - onze\n",
      "12 - douze\n",
      "13 - treize\n",
      "14 - quatorze\n",
      "15 - quize\n",
      "16 - seize\n",
      "17 - dix-sept\n",
      "18 - dix-huit\n",
      "19 - dix-neuf\n",
      "20 - vingt\n",
      "21 - vingt-un\n",
      "21 - vingt-\n",
      "21 - vingt-et-un\n",
      "22 - vingt-deux\n",
      "23 - vingt-trois\n",
      "24 - vingt-quatre\n",
      "25 - vingt-cinq\n",
      "26 - vingt-six\n",
      "27 - vingt-sept\n",
      "28 - vingt-huit\n",
      "29 - vingt-neuf\n",
      "30 - trente\n",
      "31 - trente-un\n",
      "31 - trente-\n",
      "32 - trente-deux\n",
      "33 - trente-trois\n",
      "34 - trente-quatre\n",
      "35 - trente-cinq\n",
      "36 - trente-six\n",
      "37 - trente-sept\n",
      "38 - trente-huit\n",
      "39 - trente-neuf\n",
      "40 - quarante\n",
      "41 - quarante-un\n",
      "41 - quarante-\n",
      "41 - quarante-et-un\n",
      "42 - quarante-deux\n",
      "43 - quarante-trois\n",
      "44 - quarante-quatre\n",
      "45 - quarante-cinq\n",
      "46 - quarante-six\n",
      "47 - quarante-sept\n",
      "48 - quarante-huit\n",
      "49 - quarante-neuf\n",
      "50 - cinquante\n",
      "51 - cinquante-un\n",
      "51 - cinquante-\n",
      "51 - cinquante-et-un\n",
      "52 - cinquante-deux\n",
      "53 - cinquante-trois\n",
      "54 - cinquante-quatre\n",
      "55 - cinquante-cinq\n",
      "56 - cinquante-six\n",
      "57 - cinquante-sept\n",
      "58 - cinquante-huit\n",
      "59 - cinquante-neuf\n",
      "60 - soixante\n",
      "61 - soixante-un\n",
      "61 - soixante-\n",
      "61 - soixante-et-un\n",
      "62 - soixante-deux\n",
      "63 - soixante-trois\n",
      "64 - soixante-quatre\n",
      "65 - soixante-cinq\n",
      "66 - soixante-six\n",
      "67 - soixante-sept\n",
      "68 - soixante-huit\n",
      "69 - soixante-neuf\n",
      "70 - soixante-dix\n",
      "70 - soixante\n",
      "71 - soixante-onze\n",
      "71 - soixante-et-onze\n",
      "72 - soixante-douze\n",
      "73 - soixante-treize\n",
      "74 - soixante-quatorze\n",
      "75 - soixante-quize\n",
      "76 - soixante-seize\n",
      "77 - soixante-dix-sept\n",
      "78 - soixante-dix-huit\n",
      "79 - soixante-dix-neuf\n",
      "80 - quatre-vingts\n",
      "81 - quatre-vingt-un\n",
      "81 - quatre-vingt-\n",
      "82 - quatre-vingt-deux\n",
      "83 - quatre-vingt-trois\n",
      "84 - quatre-vingt-quatre\n",
      "85 - quatre-vingt-cinq\n",
      "86 - quatre-vingt-six\n",
      "87 - quatre-vingt-sept\n",
      "88 - quatre-vingt-huit\n",
      "89 - quatre-vingt-neuf\n",
      "90 - quatre-vingt-dix\n",
      "91 - quatre-vingt-onze\n",
      "92 - quatre-vingt-douze\n",
      "93 - quatre-vingt-treize\n",
      "94 - quatre-vingt-quatorze\n",
      "95 - quatre-vingt-quize\n",
      "96 - quatre-vingt-seize\n",
      "97 - quatre-vingt-dix-sept\n",
      "98 - quatre-vingt-dix-huit\n",
      "99 - quatre-vingt-dix-neuf\n"
     ]
    }
   ],
   "source": [
    "for n in range(1, 100):\n",
    "    results = transducer.translate(str(n))\n",
    "    for r in results:\n",
    "        print(f\"{n} - {''.join(r)}\")\n"
   ]
  }
 ],
 "metadata": {
  "kernelspec": {
   "display_name": "Python 3",
   "language": "python",
   "name": "python3"
  },
  "language_info": {
   "codemirror_mode": {
    "name": "ipython",
    "version": 3
   },
   "file_extension": ".py",
   "mimetype": "text/x-python",
   "name": "python",
   "nbconvert_exporter": "python",
   "pygments_lexer": "ipython3",
   "version": "3.13.7"
  }
 },
 "nbformat": 4,
 "nbformat_minor": 5
}
