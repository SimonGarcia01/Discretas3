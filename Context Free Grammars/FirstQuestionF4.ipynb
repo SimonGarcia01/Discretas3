{
 "cells": [
  {
   "cell_type": "code",
   "execution_count": 9,
   "id": "6c10efa8",
   "metadata": {},
   "outputs": [
    {
     "name": "stdout",
     "output_type": "stream",
     "text": [
      "Requirement already satisfied: pydot in /Users/angievig/opt/anaconda3/lib/python3.9/site-packages (2.0.0)\n",
      "Requirement already satisfied: pyparsing>=3 in /Users/angievig/opt/anaconda3/lib/python3.9/site-packages (from pydot) (3.0.4)\n"
     ]
    }
   ],
   "source": [
    "! pip install pydot"
   ]
  },
  {
   "cell_type": "code",
   "execution_count": 10,
   "id": "a01797e7",
   "metadata": {},
   "outputs": [
    {
     "name": "stdout",
     "output_type": "stream",
     "text": [
      "Requirement already satisfied: textX in /Users/angievig/opt/anaconda3/lib/python3.9/site-packages (4.2.2)\n",
      "Requirement already satisfied: importlib-metadata in /Users/angievig/opt/anaconda3/lib/python3.9/site-packages (from textX) (4.8.1)\n",
      "Requirement already satisfied: Arpeggio>=2.0.0 in /Users/angievig/opt/anaconda3/lib/python3.9/site-packages (from textX) (2.0.3)\n",
      "Requirement already satisfied: zipp>=0.5 in /Users/angievig/opt/anaconda3/lib/python3.9/site-packages (from importlib-metadata->textX) (3.6.0)\n"
     ]
    }
   ],
   "source": [
    "! pip install textX"
   ]
  },
  {
   "cell_type": "code",
   "execution_count": 8,
   "id": "c9b78546",
   "metadata": {},
   "outputs": [],
   "source": [
    "#To make a meta-model from a file\n",
    "from textx import metamodel_from_file"
   ]
  },
  {
   "cell_type": "code",
   "execution_count": 32,
   "id": "011eef17",
   "metadata": {},
   "outputs": [],
   "source": [
    "#Make the meta-model\n",
    "metamodel = metamodel_from_file('EBNF.tx')"
   ]
  },
  {
   "cell_type": "code",
   "execution_count": 53,
   "id": "361db60e",
   "metadata": {},
   "outputs": [],
   "source": [
    "#Create the syntax tree\n",
    "syntaxTree = metamodel.model_from_file('example.tx')"
   ]
  },
  {
   "cell_type": "code",
   "execution_count": 54,
   "id": "b92249a2",
   "metadata": {},
   "outputs": [
    {
     "name": "stdout",
     "output_type": "stream",
     "text": [
      "Persona\n"
     ]
    }
   ],
   "source": [
    "print(syntaxTree.objects[0].objectType.name.upName)"
   ]
  },
  {
   "cell_type": "code",
   "execution_count": 55,
   "id": "7b4ded2a",
   "metadata": {},
   "outputs": [
    {
     "name": "stdout",
     "output_type": "stream",
     "text": [
      "+\n"
     ]
    }
   ],
   "source": [
    "print(syntaxTree.objects[0].objectType.attributes[0].visibility.visibility)"
   ]
  },
  {
   "cell_type": "code",
   "execution_count": 56,
   "id": "6e21d632",
   "metadata": {},
   "outputs": [
    {
     "name": "stdout",
     "output_type": "stream",
     "text": [
      "nombre\n"
     ]
    }
   ],
   "source": [
    "print(syntaxTree.objects[0].objectType.attributes[0].name.lowName)"
   ]
  },
  {
   "cell_type": "code",
   "execution_count": 57,
   "id": "2ee3dfb2",
   "metadata": {},
   "outputs": [
    {
     "name": "stdout",
     "output_type": "stream",
     "text": [
      "String\n"
     ]
    }
   ],
   "source": [
    "print(syntaxTree.objects[0].objectType.attributes[0].type.datatype)"
   ]
  },
  {
   "cell_type": "code",
   "execution_count": 59,
   "id": "68337350",
   "metadata": {},
   "outputs": [
    {
     "name": "stdout",
     "output_type": "stream",
     "text": [
      "+\n"
     ]
    }
   ],
   "source": [
    "print(syntaxTree.objects[0].objectType.methods[0].visibility.visibility)"
   ]
  },
  {
   "cell_type": "code",
   "execution_count": 58,
   "id": "4800ce30",
   "metadata": {},
   "outputs": [
    {
     "name": "stdout",
     "output_type": "stream",
     "text": [
      "hablar\n"
     ]
    }
   ],
   "source": [
    "print(syntaxTree.objects[0].objectType.methods[0].name.lowName)"
   ]
  },
  {
   "cell_type": "code",
   "execution_count": 60,
   "id": "f4d84085",
   "metadata": {},
   "outputs": [
    {
     "name": "stdout",
     "output_type": "stream",
     "text": [
      "dato\n"
     ]
    }
   ],
   "source": [
    "print(syntaxTree.objects[0].objectType.methods[0].params.params[0].name.lowName)"
   ]
  },
  {
   "cell_type": "code",
   "execution_count": 61,
   "id": "164b9902",
   "metadata": {},
   "outputs": [
    {
     "name": "stdout",
     "output_type": "stream",
     "text": [
      "String\n"
     ]
    }
   ],
   "source": [
    "print(syntaxTree.objects[0].objectType.methods[0].params.params[0].type.datatype)"
   ]
  },
  {
   "cell_type": "code",
   "execution_count": 62,
   "id": "48033ecc",
   "metadata": {},
   "outputs": [
    {
     "name": "stdout",
     "output_type": "stream",
     "text": [
      "String\n"
     ]
    }
   ],
   "source": [
    "print(syntaxTree.objects[0].objectType.methods[0].returnType.retorno.datatype)"
   ]
  },
  {
   "cell_type": "code",
   "execution_count": 76,
   "id": "b02dda35",
   "metadata": {},
   "outputs": [],
   "source": [
    "def to_java(model):\n",
    "    for obj in model.objects:\n",
    "        class_obj = obj.objectType\n",
    "\n",
    "        name = class_obj.name.upName\n",
    "\n",
    "        attributes = class_obj.attributes\n",
    "\n",
    "        methods = class_obj.methods\n",
    "\n",
    "        print(f\"public class {name} {{\")\n",
    "\n",
    "        for att in attributes:\n",
    "            print(att.visibility.visibility)\n",
    "            print(att.name.lowName)\n",
    "            print(att.type.datatype)\n",
    "\n",
    "        for met in methods:\n",
    "                print(met.visibility.visibility)\n",
    "                print(met.name.lowName)\n",
    "                print(met.returnType.retorno.datatype)\n",
    "                for param in met.params.params:\n",
    "                    print(param.name.lowName)\n",
    "                    print(param.type.datatype)\n",
    "        \n",
    "        print(\"}\")"
   ]
  },
  {
   "cell_type": "code",
   "execution_count": 77,
   "id": "bb6ce781",
   "metadata": {},
   "outputs": [
    {
     "name": "stdout",
     "output_type": "stream",
     "text": [
      "public class Persona {\n",
      "+\n",
      "nombre\n",
      "String\n",
      "+\n",
      "hablar\n",
      "String\n",
      "dato\n",
      "String\n",
      "}\n"
     ]
    }
   ],
   "source": [
    "to_java(syntaxTree)"
   ]
  },
  {
   "cell_type": "code",
   "execution_count": 47,
   "id": "c19c0358",
   "metadata": {},
   "outputs": [
    {
     "name": "stdout",
     "output_type": "stream",
     "text": [
      "ClasePrueba\n"
     ]
    }
   ],
   "source": [
    "#Como vaina le saco eso, porque solo me deja syntaxTree.objects (arriba)\n",
    "print(syntaxTree.objects[0].objectType.classDef.upName)"
   ]
  },
  {
   "cell_type": "code",
   "execution_count": 15,
   "id": "548a091c",
   "metadata": {},
   "outputs": [
    {
     "name": "stdout",
     "output_type": "stream",
     "text": [
      "Generating dot target from models:\n",
      "/Users/angievig/git/Discretas3/Context Free Grammars/stepsEBNF.tx\n",
      "-- NOT overwriting: /Users/angievig/git/Discretas3/Context Free Grammars/stepsEBNF.dot\n"
     ]
    }
   ],
   "source": [
    "!textx generate stepsEBNF.tx --target dot"
   ]
  },
  {
   "cell_type": "code",
   "execution_count": 17,
   "id": "5d526f9a",
   "metadata": {},
   "outputs": [
    {
     "ename": "AttributeError",
     "evalue": "type object 'pyparsing_unicode' has no attribute 'BasicMultilingualPlane'",
     "output_type": "error",
     "traceback": [
      "\u001b[0;31m---------------------------------------------------------------------------\u001b[0m",
      "\u001b[0;31mAttributeError\u001b[0m                            Traceback (most recent call last)",
      "Cell \u001b[0;32mIn[17], line 3\u001b[0m\n\u001b[1;32m      1\u001b[0m \u001b[38;5;28;01mimport\u001b[39;00m \u001b[38;5;21;01mpydot\u001b[39;00m\n\u001b[0;32m----> 3\u001b[0m (graph,) \u001b[38;5;241m=\u001b[39m \u001b[43mpydot\u001b[49m\u001b[38;5;241;43m.\u001b[39;49m\u001b[43mgraph_from_dot_file\u001b[49m\u001b[43m(\u001b[49m\u001b[38;5;124;43m'\u001b[39;49m\u001b[38;5;124;43mstepsEBNF.dot\u001b[39;49m\u001b[38;5;124;43m'\u001b[39;49m\u001b[43m)\u001b[49m\n\u001b[1;32m      4\u001b[0m graph\u001b[38;5;241m.\u001b[39mwrite_png(\u001b[38;5;124m'\u001b[39m\u001b[38;5;124mintento.png\u001b[39m\u001b[38;5;124m'\u001b[39m)\n",
      "File \u001b[0;32m~/opt/anaconda3/lib/python3.9/site-packages/pydot/core.py:308\u001b[0m, in \u001b[0;36mgraph_from_dot_file\u001b[0;34m(path, encoding)\u001b[0m\n\u001b[1;32m    306\u001b[0m \u001b[38;5;28;01mwith\u001b[39;00m io\u001b[38;5;241m.\u001b[39mopen(path, \u001b[38;5;124m\"\u001b[39m\u001b[38;5;124mrt\u001b[39m\u001b[38;5;124m\"\u001b[39m, encoding\u001b[38;5;241m=\u001b[39mencoding) \u001b[38;5;28;01mas\u001b[39;00m f:\n\u001b[1;32m    307\u001b[0m     s \u001b[38;5;241m=\u001b[39m f\u001b[38;5;241m.\u001b[39mread()\n\u001b[0;32m--> 308\u001b[0m graphs \u001b[38;5;241m=\u001b[39m \u001b[43mgraph_from_dot_data\u001b[49m\u001b[43m(\u001b[49m\u001b[43ms\u001b[49m\u001b[43m)\u001b[49m\n\u001b[1;32m    309\u001b[0m \u001b[38;5;28;01mreturn\u001b[39;00m graphs\n",
      "File \u001b[0;32m~/opt/anaconda3/lib/python3.9/site-packages/pydot/core.py:293\u001b[0m, in \u001b[0;36mgraph_from_dot_data\u001b[0;34m(s)\u001b[0m\n\u001b[1;32m    284\u001b[0m \u001b[38;5;28;01mdef\u001b[39;00m \u001b[38;5;21mgraph_from_dot_data\u001b[39m(s):\n\u001b[1;32m    285\u001b[0m     \u001b[38;5;124;03m\"\"\"Load graphs from DOT description in string `s`.\u001b[39;00m\n\u001b[1;32m    286\u001b[0m \n\u001b[1;32m    287\u001b[0m \u001b[38;5;124;03m    @param s: string in [DOT language](\u001b[39;00m\n\u001b[0;32m   (...)\u001b[0m\n\u001b[1;32m    291\u001b[0m \u001b[38;5;124;03m    @rtype: `list` of `pydot.Dot`\u001b[39;00m\n\u001b[1;32m    292\u001b[0m \u001b[38;5;124;03m    \"\"\"\u001b[39;00m\n\u001b[0;32m--> 293\u001b[0m     \u001b[38;5;28;01mreturn\u001b[39;00m \u001b[43mdot_parser\u001b[49m\u001b[38;5;241;43m.\u001b[39;49m\u001b[43mparse_dot_data\u001b[49m\u001b[43m(\u001b[49m\u001b[43ms\u001b[49m\u001b[43m)\u001b[49m\n",
      "File \u001b[0;32m~/opt/anaconda3/lib/python3.9/site-packages/pydot/dot_parser.py:516\u001b[0m, in \u001b[0;36mparse_dot_data\u001b[0;34m(s)\u001b[0m\n\u001b[1;32m    514\u001b[0m top_graphs \u001b[38;5;241m=\u001b[39m \u001b[38;5;28mlist\u001b[39m()\n\u001b[1;32m    515\u001b[0m \u001b[38;5;28;01mtry\u001b[39;00m:\n\u001b[0;32m--> 516\u001b[0m     graphparser \u001b[38;5;241m=\u001b[39m \u001b[43mgraph_definition\u001b[49m\u001b[43m(\u001b[49m\u001b[43m)\u001b[49m\n\u001b[1;32m    517\u001b[0m     graphparser\u001b[38;5;241m.\u001b[39mparseWithTabs()\n\u001b[1;32m    518\u001b[0m     tokens \u001b[38;5;241m=\u001b[39m graphparser\u001b[38;5;241m.\u001b[39mparseString(s)\n",
      "File \u001b[0;32m~/opt/anaconda3/lib/python3.9/site-packages/pydot/dot_parser.py:395\u001b[0m, in \u001b[0;36mgraph_definition\u001b[0;34m()\u001b[0m\n\u001b[1;32m    391\u001b[0m edge_ \u001b[38;5;241m=\u001b[39m CaselessLiteral(\u001b[38;5;124m\"\u001b[39m\u001b[38;5;124medge\u001b[39m\u001b[38;5;124m\"\u001b[39m)\n\u001b[1;32m    393\u001b[0m \u001b[38;5;66;03m# token definitions\u001b[39;00m\n\u001b[1;32m    394\u001b[0m identifier \u001b[38;5;241m=\u001b[39m Word(\n\u001b[0;32m--> 395\u001b[0m     \u001b[43mpyparsing_unicode\u001b[49m\u001b[38;5;241;43m.\u001b[39;49m\u001b[43mBasicMultilingualPlane\u001b[49m\u001b[38;5;241m.\u001b[39malphanums \u001b[38;5;241m+\u001b[39m \u001b[38;5;124m\"\u001b[39m\u001b[38;5;124m_.\u001b[39m\u001b[38;5;124m\"\u001b[39m\n\u001b[1;32m    396\u001b[0m )\u001b[38;5;241m.\u001b[39msetName(\u001b[38;5;124m\"\u001b[39m\u001b[38;5;124midentifier\u001b[39m\u001b[38;5;124m\"\u001b[39m)\n\u001b[1;32m    398\u001b[0m double_quoted_string \u001b[38;5;241m=\u001b[39m QuotedString(\n\u001b[1;32m    399\u001b[0m     \u001b[38;5;124m'\u001b[39m\u001b[38;5;124m\"\u001b[39m\u001b[38;5;124m'\u001b[39m, multiline\u001b[38;5;241m=\u001b[39m\u001b[38;5;28;01mTrue\u001b[39;00m, unquoteResults\u001b[38;5;241m=\u001b[39m\u001b[38;5;28;01mFalse\u001b[39;00m, escChar\u001b[38;5;241m=\u001b[39m\u001b[38;5;124m\"\u001b[39m\u001b[38;5;130;01m\\\\\u001b[39;00m\u001b[38;5;124m\"\u001b[39m\n\u001b[1;32m    400\u001b[0m )\n\u001b[1;32m    402\u001b[0m html_text \u001b[38;5;241m=\u001b[39m Forward()\n",
      "\u001b[0;31mAttributeError\u001b[0m: type object 'pyparsing_unicode' has no attribute 'BasicMultilingualPlane'"
     ]
    }
   ],
   "source": [
    "import pydot\n",
    "\n",
    "(graph,) = pydot.graph_from_dot_file('stepsEBNF.dot')\n",
    "graph.write_png('intento.png')"
   ]
  }
 ],
 "metadata": {
  "kernelspec": {
   "display_name": "Python 3",
   "language": "python",
   "name": "python3"
  },
  "language_info": {
   "codemirror_mode": {
    "name": "ipython",
    "version": 3
   },
   "file_extension": ".py",
   "mimetype": "text/x-python",
   "name": "python",
   "nbconvert_exporter": "python",
   "pygments_lexer": "ipython3",
   "version": "3.13.7"
  }
 },
 "nbformat": 4,
 "nbformat_minor": 5
}
