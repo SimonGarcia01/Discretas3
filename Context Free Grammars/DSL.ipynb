{
  "cells": [
    {
      "cell_type": "code",
      "execution_count": 1,
      "metadata": {
        "colab": {
          "base_uri": "https://localhost:8080/"
        },
        "id": "aVbnQcXNm7ne",
        "outputId": "0249a16e-3458-4243-f1b0-4e817c842a36"
      },
      "outputs": [
        {
          "name": "stdout",
          "output_type": "stream",
          "text": [
            "Collecting TextX\n",
            "  Downloading textx-4.2.2-py3-none-any.whl.metadata (8.4 kB)\n",
            "Collecting Arpeggio>=2.0.0 (from TextX)\n",
            "  Downloading Arpeggio-2.0.2-py2.py3-none-any.whl.metadata (2.4 kB)\n",
            "Downloading textx-4.2.2-py3-none-any.whl (67 kB)\n",
            "Downloading Arpeggio-2.0.2-py2.py3-none-any.whl (55 kB)\n",
            "Installing collected packages: Arpeggio, TextX\n",
            "\n",
            "   ---------------------------------------- 0/2 [Arpeggio]\n",
            "   ---------------------------------------- 0/2 [Arpeggio]\n",
            "   ---------------------------------------- 0/2 [Arpeggio]\n",
            "   ---------------------------------------- 0/2 [Arpeggio]\n",
            "   ---------------------------------------- 0/2 [Arpeggio]\n",
            "   ---------------------------------------- 0/2 [Arpeggio]\n",
            "   -------------------- ------------------- 1/2 [TextX]\n",
            "   -------------------- ------------------- 1/2 [TextX]\n",
            "   -------------------- ------------------- 1/2 [TextX]\n",
            "   -------------------- ------------------- 1/2 [TextX]\n",
            "   -------------------- ------------------- 1/2 [TextX]\n",
            "   ---------------------------------------- 2/2 [TextX]\n",
            "\n",
            "Successfully installed Arpeggio-2.0.2 TextX-4.2.2\n"
          ]
        }
      ],
      "source": [
        "!pip install TextX"
      ]
    },
    {
      "cell_type": "markdown",
      "metadata": {
        "id": "dS1X32M6sNI-"
      },
      "source": []
    },
    {
      "cell_type": "code",
      "execution_count": null,
      "metadata": {
        "colab": {
          "base_uri": "https://localhost:8080/"
        },
        "id": "rh0SQm9j124O",
        "outputId": "c9aada1e-8a0b-4a49-f3c9-a77d6c361084"
      },
      "outputs": [
        {
          "name": "stdout",
          "output_type": "stream",
          "text": [
            "SQLStatements:\n",
            "  statements += SelectStatement\n",
            ";\n",
            "SelectStatement:\n",
            " 'SELECT' selectList = ColumnList 'FROM' tables= TableList ('WHERE' condition=Expression)? ';'\n",
            ";\n",
            "ColumnList:\n",
            "  columns+=ID [',']\n",
            ";\n",
            "TableList:\n",
            "  tables+=ID [',']\n",
            ";\n",
            "Expression:\n",
            "  left = Term (op= LogicOp right = Term)*\n",
            ";\n",
            "LogicOp:\n",
            "  'AND' |'OR'\n",
            ";\n",
            "Term:\n",
            "  left=Factor op= Operator right= Factor\n",
            ";\n",
            "Operator:\n",
            "  '<' | '>' | '<=' | '>=' | '=' | '<>'\n",
            ";\n",
            "Factor:\n",
            "  Literal | ID | '(' Expression ')'\n",
            ";\n",
            "Literal:\n",
            "  INT | STRING\n",
            ";\n",
            "\n"
          ]
        }
      ],
      "source": [
        "from textx import metamodel_from_str\n",
        "\n",
        "# Define the SQL grammar using TextX syntax\n",
        "sql_grammar = '''SQLStatements:\n",
        "  statements += SelectStatement\n",
        ";\n",
        "SelectStatement:\n",
        " 'SELECT' selectList = ColumnList 'FROM' tables= TableList ('WHERE' condition=Expression)? ';'\n",
        ";\n",
        "ColumnList:\n",
        "  columns+=ID [',']\n",
        ";\n",
        "TableList:\n",
        "  tables+=ID [',']\n",
        ";\n",
        "Expression:\n",
        "  left = Term (op= LogicOp right = Term)*\n",
        ";\n",
        "LogicOp:\n",
        "  'AND' |'OR'\n",
        ";\n",
        "Term:\n",
        "  left=Factor op= Operator right= Factor\n",
        ";\n",
        "Operator:\n",
        "  '<' | '>' | '<=' | '>=' | '=' | '<>'\n",
        ";\n",
        "Factor:\n",
        "  Literal | ID | '(' Expression ')'\n",
        ";\n",
        "Literal:\n",
        "  INT | STRING\n",
        ";\n",
        "'''\n",
        "\n",
        "print(sql_grammar)\n",
        "\n"
      ]
    },
    {
      "cell_type": "code",
      "execution_count": null,
      "metadata": {
        "id": "4CA4dW3LtWSu"
      },
      "outputs": [],
      "source": [
        "# Create metamodel from the SQL grammar\n",
        "sql_metamodel = metamodel_from_str(sql_grammar)\n",
        "\n"
      ]
    },
    {
      "cell_type": "code",
      "execution_count": null,
      "metadata": {
        "id": "q5ySosC2dkdJ"
      },
      "outputs": [],
      "source": []
    },
    {
      "cell_type": "code",
      "execution_count": null,
      "metadata": {
        "colab": {
          "base_uri": "https://localhost:8080/"
        },
        "id": "lmHQ2VHvslZ-",
        "outputId": "88ab9a0e-6e46-4ea9-ee9d-f68fe84b1368"
      },
      "outputs": [
        {
          "name": "stdout",
          "output_type": "stream",
          "text": [
            "Generating dot target from models:\n",
            "/content/grammar.tx\n",
            "Traceback (most recent call last):\n",
            "  File \"/usr/local/bin/textx\", line 8, in <module>\n",
            "    sys.exit(textx())\n",
            "             ^^^^^^^\n",
            "  File \"/usr/local/lib/python3.12/dist-packages/click/core.py\", line 1442, in __call__\n",
            "    return self.main(*args, **kwargs)\n",
            "           ^^^^^^^^^^^^^^^^^^^^^^^^^^\n",
            "  File \"/usr/local/lib/python3.12/dist-packages/click/core.py\", line 1363, in main\n",
            "    rv = self.invoke(ctx)\n",
            "         ^^^^^^^^^^^^^^^^\n",
            "  File \"/usr/local/lib/python3.12/dist-packages/click/core.py\", line 1830, in invoke\n",
            "    return _process_result(sub_ctx.command.invoke(sub_ctx))\n",
            "                           ^^^^^^^^^^^^^^^^^^^^^^^^^^^^^^^\n",
            "  File \"/usr/local/lib/python3.12/dist-packages/click/core.py\", line 1226, in invoke\n",
            "    return ctx.invoke(self.callback, **ctx.params)\n",
            "           ^^^^^^^^^^^^^^^^^^^^^^^^^^^^^^^^^^^^^^^\n",
            "  File \"/usr/local/lib/python3.12/dist-packages/click/core.py\", line 794, in invoke\n",
            "    return callback(*args, **kwargs)\n",
            "           ^^^^^^^^^^^^^^^^^^^^^^^^^\n",
            "  File \"/usr/local/lib/python3.12/dist-packages/click/decorators.py\", line 34, in new_func\n",
            "    return f(get_current_context(), *args, **kwargs)\n",
            "           ^^^^^^^^^^^^^^^^^^^^^^^^^^^^^^^^^^^^^^^^^\n",
            "  File \"/usr/local/lib/python3.12/dist-packages/textx/cli/generate.py\", line 148, in generate\n",
            "    model = metamodel.model_from_file(model_file, **model_params)\n",
            "            ^^^^^^^^^^^^^^^^^^^^^^^^^^^^^^^^^^^^^^^^^^^^^^^^^^^^^\n",
            "  File \"/usr/local/lib/python3.12/dist-packages/textx/metamodel.py\", line 860, in model_from_file\n",
            "    return metamodel_from_file(file_name, debug=debug, **kwargs)\n",
            "           ^^^^^^^^^^^^^^^^^^^^^^^^^^^^^^^^^^^^^^^^^^^^^^^^^^^^^\n",
            "  File \"/usr/local/lib/python3.12/dist-packages/textx/metamodel.py\", line 76, in metamodel_from_file\n",
            "    with codecs.open(file_name, \"r\", \"utf-8\") as f:\n",
            "         ^^^^^^^^^^^^^^^^^^^^^^^^^^^^^^^^^^^^\n",
            "  File \"<frozen codecs>\", line 918, in open\n",
            "FileNotFoundError: [Errno 2] No such file or directory: 'grammar.tx'\n"
          ]
        }
      ],
      "source": [
        "!textx generate grammar.tx --target dot"
      ]
    },
    {
      "cell_type": "code",
      "execution_count": null,
      "metadata": {
        "colab": {
          "base_uri": "https://localhost:8080/",
          "height": 315
        },
        "id": "XpgxG5nou6d1",
        "outputId": "f134a8b9-0f2b-454d-8687-c228683d3f10"
      },
      "outputs": [
        {
          "ename": "FileNotFoundError",
          "evalue": "[Errno 2] No such file or directory: 'grammar.dot'",
          "output_type": "error",
          "traceback": [
            "\u001b[0;31m---------------------------------------------------------------------------\u001b[0m",
            "\u001b[0;31mFileNotFoundError\u001b[0m                         Traceback (most recent call last)",
            "\u001b[0;32m/tmp/ipython-input-749122073.py\u001b[0m in \u001b[0;36m<cell line: 0>\u001b[0;34m()\u001b[0m\n\u001b[1;32m      1\u001b[0m \u001b[0;32mimport\u001b[0m \u001b[0mpydot\u001b[0m\u001b[0;34m\u001b[0m\u001b[0;34m\u001b[0m\u001b[0m\n\u001b[1;32m      2\u001b[0m \u001b[0;34m\u001b[0m\u001b[0m\n\u001b[0;32m----> 3\u001b[0;31m \u001b[0;34m(\u001b[0m\u001b[0mgraph\u001b[0m\u001b[0;34m,\u001b[0m\u001b[0;34m)\u001b[0m \u001b[0;34m=\u001b[0m \u001b[0mpydot\u001b[0m\u001b[0;34m.\u001b[0m\u001b[0mgraph_from_dot_file\u001b[0m\u001b[0;34m(\u001b[0m\u001b[0;34m'grammar.dot'\u001b[0m\u001b[0;34m)\u001b[0m\u001b[0;34m\u001b[0m\u001b[0;34m\u001b[0m\u001b[0m\n\u001b[0m\u001b[1;32m      4\u001b[0m \u001b[0mgraph\u001b[0m\u001b[0;34m.\u001b[0m\u001b[0mwrite_png\u001b[0m\u001b[0;34m(\u001b[0m\u001b[0;34m'grammar.png'\u001b[0m\u001b[0;34m)\u001b[0m\u001b[0;34m\u001b[0m\u001b[0;34m\u001b[0m\u001b[0m\n",
            "\u001b[0;32m/usr/local/lib/python3.12/dist-packages/pydot/core.py\u001b[0m in \u001b[0;36mgraph_from_dot_file\u001b[0;34m(path, encoding)\u001b[0m\n\u001b[1;32m    437\u001b[0m     \u001b[0;34m@\u001b[0m\u001b[0mrtype\u001b[0m\u001b[0;34m:\u001b[0m\u001b[0;31m \u001b[0m\u001b[0;31m`\u001b[0m\u001b[0mlist\u001b[0m\u001b[0;31m`\u001b[0m \u001b[0mof\u001b[0m\u001b[0;31m \u001b[0m\u001b[0;31m`\u001b[0m\u001b[0mpydot\u001b[0m\u001b[0;34m.\u001b[0m\u001b[0mDot\u001b[0m\u001b[0;31m`\u001b[0m\u001b[0;34m\u001b[0m\u001b[0;34m\u001b[0m\u001b[0m\n\u001b[1;32m    438\u001b[0m     \"\"\"\n\u001b[0;32m--> 439\u001b[0;31m     \u001b[0;32mwith\u001b[0m \u001b[0mopen\u001b[0m\u001b[0;34m(\u001b[0m\u001b[0mpath\u001b[0m\u001b[0;34m,\u001b[0m \u001b[0mencoding\u001b[0m\u001b[0;34m=\u001b[0m\u001b[0mencoding\u001b[0m\u001b[0;34m)\u001b[0m \u001b[0;32mas\u001b[0m \u001b[0mf\u001b[0m\u001b[0;34m:\u001b[0m\u001b[0;34m\u001b[0m\u001b[0;34m\u001b[0m\u001b[0m\n\u001b[0m\u001b[1;32m    440\u001b[0m         \u001b[0ms\u001b[0m \u001b[0;34m=\u001b[0m \u001b[0mf\u001b[0m\u001b[0;34m.\u001b[0m\u001b[0mread\u001b[0m\u001b[0;34m(\u001b[0m\u001b[0;34m)\u001b[0m\u001b[0;34m\u001b[0m\u001b[0;34m\u001b[0m\u001b[0m\n\u001b[1;32m    441\u001b[0m     \u001b[0mgraphs\u001b[0m \u001b[0;34m=\u001b[0m \u001b[0mgraph_from_dot_data\u001b[0m\u001b[0;34m(\u001b[0m\u001b[0ms\u001b[0m\u001b[0;34m)\u001b[0m\u001b[0;34m\u001b[0m\u001b[0;34m\u001b[0m\u001b[0m\n",
            "\u001b[0;31mFileNotFoundError\u001b[0m: [Errno 2] No such file or directory: 'grammar.dot'"
          ]
        }
      ],
      "source": [
        "import pydot\n",
        "\n",
        "(graph,) = pydot.graph_from_dot_file('grammar.dot')\n",
        "graph.write_png('grammar.png')"
      ]
    },
    {
      "cell_type": "code",
      "execution_count": null,
      "metadata": {
        "id": "nAPvHBflpHQY"
      },
      "outputs": [],
      "source": [
        "\n",
        "\n",
        "# Example SQL query\n",
        "sql_query = '''SELECT name, surname, age   FROM users, students;\n",
        "SELECT name, passwd   FROM users, students;'''\n",
        "\n",
        "#sql_query = \"\"\"SELECT name, surname, age   FROM users, students WHERE name = 'Juan' AND age >10;\n",
        "#SELECT name, surname, age   FROM users;\"\"\"\n",
        "# Parse the SQL query using the SQL metamodel\n",
        "model = sql_metamodel.model_from_str(sql_query)\n",
        "\n",
        "# Traverse the parsed model and perform further processing\n",
        "for statement in model.statements:\n",
        "  print(statement.selectList.columns)"
      ]
    },
    {
      "cell_type": "code",
      "execution_count": null,
      "metadata": {
        "id": "tv_QANFvyCBA"
      },
      "outputs": [],
      "source": [
        "!textx generate queries.tx --grammar grammar.tx --target dot"
      ]
    },
    {
      "cell_type": "code",
      "execution_count": null,
      "metadata": {
        "id": "hbQQWGWNm4lC"
      },
      "outputs": [],
      "source": [
        "(graph,) = pydot.graph_from_dot_file('queries.dot')\n",
        "graph.write_png('queries.png')"
      ]
    },
    {
      "cell_type": "code",
      "execution_count": null,
      "metadata": {
        "id": "_1Guby0om5bi"
      },
      "outputs": [],
      "source": []
    }
  ],
  "metadata": {
    "colab": {
      "provenance": []
    },
    "kernelspec": {
      "display_name": "Python 3",
      "name": "python3"
    },
    "language_info": {
      "codemirror_mode": {
        "name": "ipython",
        "version": 3
      },
      "file_extension": ".py",
      "mimetype": "text/x-python",
      "name": "python",
      "nbconvert_exporter": "python",
      "pygments_lexer": "ipython3",
      "version": "3.13.7"
    }
  },
  "nbformat": 4,
  "nbformat_minor": 0
}
