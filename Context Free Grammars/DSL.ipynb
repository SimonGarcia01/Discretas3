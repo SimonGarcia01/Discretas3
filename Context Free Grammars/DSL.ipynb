{
  "nbformat": 4,
  "nbformat_minor": 0,
  "metadata": {
    "colab": {
      "provenance": []
    },
    "kernelspec": {
      "name": "python3",
      "display_name": "Python 3"
    },
    "language_info": {
      "name": "python"
    }
  },
  "cells": [
    {
      "cell_type": "code",
      "source": [
        "!pip install TextX"
      ],
      "metadata": {
        "id": "aVbnQcXNm7ne",
        "colab": {
          "base_uri": "https://localhost:8080/"
        },
        "outputId": "0249a16e-3458-4243-f1b0-4e817c842a36"
      },
      "execution_count": null,
      "outputs": [
        {
          "output_type": "stream",
          "name": "stdout",
          "text": [
            "Collecting TextX\n",
            "  Downloading textx-4.2.2-py3-none-any.whl.metadata (8.4 kB)\n",
            "Collecting Arpeggio>=2.0.0 (from TextX)\n",
            "  Downloading Arpeggio-2.0.2-py2.py3-none-any.whl.metadata (2.4 kB)\n",
            "Downloading textx-4.2.2-py3-none-any.whl (67 kB)\n",
            "\u001b[2K   \u001b[90m━━━━━━━━━━━━━━━━━━━━━━━━━━━━━━━━━━━━━━━━\u001b[0m \u001b[32m67.7/67.7 kB\u001b[0m \u001b[31m2.2 MB/s\u001b[0m eta \u001b[36m0:00:00\u001b[0m\n",
            "\u001b[?25hDownloading Arpeggio-2.0.2-py2.py3-none-any.whl (55 kB)\n",
            "\u001b[2K   \u001b[90m━━━━━━━━━━━━━━━━━━━━━━━━━━━━━━━━━━━━━━━━\u001b[0m \u001b[32m55.3/55.3 kB\u001b[0m \u001b[31m7.4 MB/s\u001b[0m eta \u001b[36m0:00:00\u001b[0m\n",
            "\u001b[?25hInstalling collected packages: Arpeggio, TextX\n",
            "Successfully installed Arpeggio-2.0.2 TextX-4.2.2\n"
          ]
        }
      ]
    },
    {
      "cell_type": "markdown",
      "source": [],
      "metadata": {
        "id": "dS1X32M6sNI-"
      }
    },
    {
      "cell_type": "code",
      "execution_count": null,
      "metadata": {
        "id": "rh0SQm9j124O",
        "colab": {
          "base_uri": "https://localhost:8080/"
        },
        "outputId": "c9aada1e-8a0b-4a49-f3c9-a77d6c361084"
      },
      "outputs": [
        {
          "output_type": "stream",
          "name": "stdout",
          "text": [
            "SQLStatements:\n",
            "  statements += SelectStatement\n",
            ";\n",
            "SelectStatement:\n",
            " 'SELECT' selectList = ColumnList 'FROM' tables= TableList ('WHERE' condition=Expression)? ';'\n",
            ";\n",
            "ColumnList:\n",
            "  columns+=ID [',']\n",
            ";\n",
            "TableList:\n",
            "  tables+=ID [',']\n",
            ";\n",
            "Expression:\n",
            "  left = Term (op= LogicOp right = Term)*\n",
            ";\n",
            "LogicOp:\n",
            "  'AND' |'OR'\n",
            ";\n",
            "Term:\n",
            "  left=Factor op= Operator right= Factor\n",
            ";\n",
            "Operator:\n",
            "  '<' | '>' | '<=' | '>=' | '=' | '<>'\n",
            ";\n",
            "Factor:\n",
            "  Literal | ID | '(' Expression ')'\n",
            ";\n",
            "Literal:\n",
            "  INT | STRING\n",
            ";\n",
            "\n"
          ]
        }
      ],
      "source": [
        "from textx import metamodel_from_str\n",
        "\n",
        "# Define the SQL grammar using TextX syntax\n",
        "sql_grammar = '''SQLStatements:\n",
        "  statements += SelectStatement\n",
        ";\n",
        "SelectStatement:\n",
        " 'SELECT' selectList = ColumnList 'FROM' tables= TableList ('WHERE' condition=Expression)? ';'\n",
        ";\n",
        "ColumnList:\n",
        "  columns+=ID [',']\n",
        ";\n",
        "TableList:\n",
        "  tables+=ID [',']\n",
        ";\n",
        "Expression:\n",
        "  left = Term (op= LogicOp right = Term)*\n",
        ";\n",
        "LogicOp:\n",
        "  'AND' |'OR'\n",
        ";\n",
        "Term:\n",
        "  left=Factor op= Operator right= Factor\n",
        ";\n",
        "Operator:\n",
        "  '<' | '>' | '<=' | '>=' | '=' | '<>'\n",
        ";\n",
        "Factor:\n",
        "  Literal | ID | '(' Expression ')'\n",
        ";\n",
        "Literal:\n",
        "  INT | STRING\n",
        ";\n",
        "'''\n",
        "\n",
        "print(sql_grammar)\n",
        "\n"
      ]
    },
    {
      "cell_type": "code",
      "source": [
        "# Create metamodel from the SQL grammar\n",
        "sql_metamodel = metamodel_from_str(sql_grammar)\n",
        "\n"
      ],
      "metadata": {
        "id": "4CA4dW3LtWSu"
      },
      "execution_count": null,
      "outputs": []
    },
    {
      "cell_type": "code",
      "source": [],
      "metadata": {
        "id": "q5ySosC2dkdJ"
      },
      "execution_count": null,
      "outputs": []
    },
    {
      "cell_type": "code",
      "source": [
        "!textx generate grammar.tx --target dot"
      ],
      "metadata": {
        "colab": {
          "base_uri": "https://localhost:8080/"
        },
        "id": "lmHQ2VHvslZ-",
        "outputId": "88ab9a0e-6e46-4ea9-ee9d-f68fe84b1368"
      },
      "execution_count": null,
      "outputs": [
        {
          "output_type": "stream",
          "name": "stdout",
          "text": [
            "Generating dot target from models:\n",
            "/content/grammar.tx\n",
            "Traceback (most recent call last):\n",
            "  File \"/usr/local/bin/textx\", line 8, in <module>\n",
            "    sys.exit(textx())\n",
            "             ^^^^^^^\n",
            "  File \"/usr/local/lib/python3.12/dist-packages/click/core.py\", line 1442, in __call__\n",
            "    return self.main(*args, **kwargs)\n",
            "           ^^^^^^^^^^^^^^^^^^^^^^^^^^\n",
            "  File \"/usr/local/lib/python3.12/dist-packages/click/core.py\", line 1363, in main\n",
            "    rv = self.invoke(ctx)\n",
            "         ^^^^^^^^^^^^^^^^\n",
            "  File \"/usr/local/lib/python3.12/dist-packages/click/core.py\", line 1830, in invoke\n",
            "    return _process_result(sub_ctx.command.invoke(sub_ctx))\n",
            "                           ^^^^^^^^^^^^^^^^^^^^^^^^^^^^^^^\n",
            "  File \"/usr/local/lib/python3.12/dist-packages/click/core.py\", line 1226, in invoke\n",
            "    return ctx.invoke(self.callback, **ctx.params)\n",
            "           ^^^^^^^^^^^^^^^^^^^^^^^^^^^^^^^^^^^^^^^\n",
            "  File \"/usr/local/lib/python3.12/dist-packages/click/core.py\", line 794, in invoke\n",
            "    return callback(*args, **kwargs)\n",
            "           ^^^^^^^^^^^^^^^^^^^^^^^^^\n",
            "  File \"/usr/local/lib/python3.12/dist-packages/click/decorators.py\", line 34, in new_func\n",
            "    return f(get_current_context(), *args, **kwargs)\n",
            "           ^^^^^^^^^^^^^^^^^^^^^^^^^^^^^^^^^^^^^^^^^\n",
            "  File \"/usr/local/lib/python3.12/dist-packages/textx/cli/generate.py\", line 148, in generate\n",
            "    model = metamodel.model_from_file(model_file, **model_params)\n",
            "            ^^^^^^^^^^^^^^^^^^^^^^^^^^^^^^^^^^^^^^^^^^^^^^^^^^^^^\n",
            "  File \"/usr/local/lib/python3.12/dist-packages/textx/metamodel.py\", line 860, in model_from_file\n",
            "    return metamodel_from_file(file_name, debug=debug, **kwargs)\n",
            "           ^^^^^^^^^^^^^^^^^^^^^^^^^^^^^^^^^^^^^^^^^^^^^^^^^^^^^\n",
            "  File \"/usr/local/lib/python3.12/dist-packages/textx/metamodel.py\", line 76, in metamodel_from_file\n",
            "    with codecs.open(file_name, \"r\", \"utf-8\") as f:\n",
            "         ^^^^^^^^^^^^^^^^^^^^^^^^^^^^^^^^^^^^\n",
            "  File \"<frozen codecs>\", line 918, in open\n",
            "FileNotFoundError: [Errno 2] No such file or directory: 'grammar.tx'\n"
          ]
        }
      ]
    },
    {
      "cell_type": "code",
      "source": [
        "import pydot\n",
        "\n",
        "(graph,) = pydot.graph_from_dot_file('grammar.dot')\n",
        "graph.write_png('grammar.png')"
      ],
      "metadata": {
        "id": "XpgxG5nou6d1",
        "outputId": "f134a8b9-0f2b-454d-8687-c228683d3f10",
        "colab": {
          "base_uri": "https://localhost:8080/",
          "height": 315
        }
      },
      "execution_count": null,
      "outputs": [
        {
          "output_type": "error",
          "ename": "FileNotFoundError",
          "evalue": "[Errno 2] No such file or directory: 'grammar.dot'",
          "traceback": [
            "\u001b[0;31m---------------------------------------------------------------------------\u001b[0m",
            "\u001b[0;31mFileNotFoundError\u001b[0m                         Traceback (most recent call last)",
            "\u001b[0;32m/tmp/ipython-input-749122073.py\u001b[0m in \u001b[0;36m<cell line: 0>\u001b[0;34m()\u001b[0m\n\u001b[1;32m      1\u001b[0m \u001b[0;32mimport\u001b[0m \u001b[0mpydot\u001b[0m\u001b[0;34m\u001b[0m\u001b[0;34m\u001b[0m\u001b[0m\n\u001b[1;32m      2\u001b[0m \u001b[0;34m\u001b[0m\u001b[0m\n\u001b[0;32m----> 3\u001b[0;31m \u001b[0;34m(\u001b[0m\u001b[0mgraph\u001b[0m\u001b[0;34m,\u001b[0m\u001b[0;34m)\u001b[0m \u001b[0;34m=\u001b[0m \u001b[0mpydot\u001b[0m\u001b[0;34m.\u001b[0m\u001b[0mgraph_from_dot_file\u001b[0m\u001b[0;34m(\u001b[0m\u001b[0;34m'grammar.dot'\u001b[0m\u001b[0;34m)\u001b[0m\u001b[0;34m\u001b[0m\u001b[0;34m\u001b[0m\u001b[0m\n\u001b[0m\u001b[1;32m      4\u001b[0m \u001b[0mgraph\u001b[0m\u001b[0;34m.\u001b[0m\u001b[0mwrite_png\u001b[0m\u001b[0;34m(\u001b[0m\u001b[0;34m'grammar.png'\u001b[0m\u001b[0;34m)\u001b[0m\u001b[0;34m\u001b[0m\u001b[0;34m\u001b[0m\u001b[0m\n",
            "\u001b[0;32m/usr/local/lib/python3.12/dist-packages/pydot/core.py\u001b[0m in \u001b[0;36mgraph_from_dot_file\u001b[0;34m(path, encoding)\u001b[0m\n\u001b[1;32m    437\u001b[0m     \u001b[0;34m@\u001b[0m\u001b[0mrtype\u001b[0m\u001b[0;34m:\u001b[0m\u001b[0;31m \u001b[0m\u001b[0;31m`\u001b[0m\u001b[0mlist\u001b[0m\u001b[0;31m`\u001b[0m \u001b[0mof\u001b[0m\u001b[0;31m \u001b[0m\u001b[0;31m`\u001b[0m\u001b[0mpydot\u001b[0m\u001b[0;34m.\u001b[0m\u001b[0mDot\u001b[0m\u001b[0;31m`\u001b[0m\u001b[0;34m\u001b[0m\u001b[0;34m\u001b[0m\u001b[0m\n\u001b[1;32m    438\u001b[0m     \"\"\"\n\u001b[0;32m--> 439\u001b[0;31m     \u001b[0;32mwith\u001b[0m \u001b[0mopen\u001b[0m\u001b[0;34m(\u001b[0m\u001b[0mpath\u001b[0m\u001b[0;34m,\u001b[0m \u001b[0mencoding\u001b[0m\u001b[0;34m=\u001b[0m\u001b[0mencoding\u001b[0m\u001b[0;34m)\u001b[0m \u001b[0;32mas\u001b[0m \u001b[0mf\u001b[0m\u001b[0;34m:\u001b[0m\u001b[0;34m\u001b[0m\u001b[0;34m\u001b[0m\u001b[0m\n\u001b[0m\u001b[1;32m    440\u001b[0m         \u001b[0ms\u001b[0m \u001b[0;34m=\u001b[0m \u001b[0mf\u001b[0m\u001b[0;34m.\u001b[0m\u001b[0mread\u001b[0m\u001b[0;34m(\u001b[0m\u001b[0;34m)\u001b[0m\u001b[0;34m\u001b[0m\u001b[0;34m\u001b[0m\u001b[0m\n\u001b[1;32m    441\u001b[0m     \u001b[0mgraphs\u001b[0m \u001b[0;34m=\u001b[0m \u001b[0mgraph_from_dot_data\u001b[0m\u001b[0;34m(\u001b[0m\u001b[0ms\u001b[0m\u001b[0;34m)\u001b[0m\u001b[0;34m\u001b[0m\u001b[0;34m\u001b[0m\u001b[0m\n",
            "\u001b[0;31mFileNotFoundError\u001b[0m: [Errno 2] No such file or directory: 'grammar.dot'"
          ]
        }
      ]
    },
    {
      "cell_type": "code",
      "source": [
        "\n",
        "\n",
        "# Example SQL query\n",
        "sql_query = '''SELECT name, surname, age   FROM users, students;\n",
        "SELECT name, passwd   FROM users, students;'''\n",
        "\n",
        "#sql_query = \"\"\"SELECT name, surname, age   FROM users, students WHERE name = 'Juan' AND age >10;\n",
        "#SELECT name, surname, age   FROM users;\"\"\"\n",
        "# Parse the SQL query using the SQL metamodel\n",
        "model = sql_metamodel.model_from_str(sql_query)\n",
        "\n",
        "# Traverse the parsed model and perform further processing\n",
        "for statement in model.statements:\n",
        "  print(statement.selectList.columns)"
      ],
      "metadata": {
        "id": "nAPvHBflpHQY"
      },
      "execution_count": null,
      "outputs": []
    },
    {
      "cell_type": "code",
      "source": [
        "!textx generate queries.tx --grammar grammar.tx --target dot"
      ],
      "metadata": {
        "id": "tv_QANFvyCBA"
      },
      "execution_count": null,
      "outputs": []
    },
    {
      "cell_type": "code",
      "source": [
        "(graph,) = pydot.graph_from_dot_file('queries.dot')\n",
        "graph.write_png('queries.png')"
      ],
      "metadata": {
        "id": "hbQQWGWNm4lC"
      },
      "execution_count": null,
      "outputs": []
    },
    {
      "cell_type": "code",
      "source": [],
      "metadata": {
        "id": "_1Guby0om5bi"
      },
      "execution_count": null,
      "outputs": []
    }
  ]
}