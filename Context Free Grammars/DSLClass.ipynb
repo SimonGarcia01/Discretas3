{
  "nbformat": 4,
  "nbformat_minor": 0,
  "metadata": {
    "colab": {
      "provenance": []
    },
    "kernelspec": {
      "name": "python3",
      "display_name": "Python 3"
    },
    "language_info": {
      "name": "python"
    }
  },
  "cells": [
    {
      "cell_type": "code",
      "execution_count": null,
      "metadata": {
        "id": "cWuJXJUOZGPt",
        "colab": {
          "base_uri": "https://localhost:8080/"
        },
        "outputId": "f5409c31-8609-40bb-82f2-93cb989e0d19"
      },
      "outputs": [
        {
          "output_type": "stream",
          "name": "stdout",
          "text": [
            "Collecting TextX\n",
            "  Downloading textx-4.2.2-py3-none-any.whl.metadata (8.4 kB)\n",
            "Collecting Arpeggio>=2.0.0 (from TextX)\n",
            "  Downloading Arpeggio-2.0.2-py2.py3-none-any.whl.metadata (2.4 kB)\n",
            "Downloading textx-4.2.2-py3-none-any.whl (67 kB)\n",
            "\u001b[2K   \u001b[90m━━━━━━━━━━━━━━━━━━━━━━━━━━━━━━━━━━━━━━━━\u001b[0m \u001b[32m67.7/67.7 kB\u001b[0m \u001b[31m3.0 MB/s\u001b[0m eta \u001b[36m0:00:00\u001b[0m\n",
            "\u001b[?25hDownloading Arpeggio-2.0.2-py2.py3-none-any.whl (55 kB)\n",
            "\u001b[2K   \u001b[90m━━━━━━━━━━━━━━━━━━━━━━━━━━━━━━━━━━━━━━━━\u001b[0m \u001b[32m55.3/55.3 kB\u001b[0m \u001b[31m2.2 MB/s\u001b[0m eta \u001b[36m0:00:00\u001b[0m\n",
            "\u001b[?25hInstalling collected packages: Arpeggio, TextX\n",
            "Successfully installed Arpeggio-2.0.2 TextX-4.2.2\n"
          ]
        }
      ],
      "source": [
        "!pip install TextX"
      ]
    },
    {
      "cell_type": "code",
      "source": [
        "from textx import metamodel_from_str\n",
        "\n",
        "string_with_the_grammar='''\n",
        "This is a string with the grammar in the TextX format\n",
        "'''\n",
        "\n",
        "# Create metamodel from the SQL grammar\n",
        "metamodel = metamodel_from_str(string_with_the_grammar)\n",
        "\n",
        "# Create a syntax tree using the  metamodel and the program in a string\n",
        "concrete_syntax='''\n",
        "This is a string with the concrete syntax of my DDL\n",
        "'''\n",
        "\n",
        "syntaxTree = metamodel.model_from_str(concrete_syntax)"
      ],
      "metadata": {
        "id": "gF-DPTzncHPU",
        "colab": {
          "base_uri": "https://localhost:8080/",
          "height": 112
        },
        "outputId": "ab0203f2-4c24-476c-93e1-3bf2140a61f3"
      },
      "execution_count": null,
      "outputs": [
        {
          "output_type": "error",
          "ename": "SyntaxError",
          "evalue": "invalid syntax (<ipython-input-29-ded2355cc4b2>, line 3)",
          "traceback": [
            "\u001b[0;36m  File \u001b[0;32m\"<ipython-input-29-ded2355cc4b2>\"\u001b[0;36m, line \u001b[0;32m3\u001b[0m\n\u001b[0;31m    string_with_the_grammar=\u001b[0m\n\u001b[0m                            ^\u001b[0m\n\u001b[0;31mSyntaxError\u001b[0m\u001b[0;31m:\u001b[0m invalid syntax\n"
          ]
        }
      ]
    },
    {
      "cell_type": "code",
      "source": [
        "#To create a metamodel from a file\n",
        "from textx import metamodel_from_file\n",
        "metamodel = metamodel_from_file('grammar.tx')\n",
        "#Create a syntax tree using the  metamodel and the program in a file\n",
        "syntaxTree = metamodel.model_from_file('queries.tx')\n",
        "#print(metamodel)\n",
        "syntaxTree\n",
        "\n",
        "# Traverse the parsed model and perform further processing\n",
        "#print(list(syntaxTree.statements))\n",
        "for statement in syntaxTree.statements:\n",
        "  print(statement.selectList.columns)\n",
        "\n",
        "var= \"\".join([f'''{a.selectList.columns}''' for a in syntaxTree.statements])\n",
        "print(var)\n"
      ],
      "metadata": {
        "id": "DYNy96jPdnxh",
        "colab": {
          "base_uri": "https://localhost:8080/"
        },
        "outputId": "03cfe72d-bece-4b84-f111-563b084ac7d3"
      },
      "execution_count": null,
      "outputs": [
        {
          "output_type": "stream",
          "name": "stdout",
          "text": [
            "['name']\n",
            "['name', 'surname', 'age']\n",
            "['name', 'surname', 'age']\n",
            "['name']['name', 'surname', 'age']['name', 'surname', 'age']\n"
          ]
        }
      ]
    },
    {
      "cell_type": "code",
      "source": [
        "#To create the metamodel and model diagrams\n",
        "#filename is a filename with the grammar\n",
        "\n",
        "#For the metamodel\n",
        "!textx generate grammar.tx --target dot\n",
        "\n",
        "\n"
      ],
      "metadata": {
        "id": "SHxWYw0omUWG",
        "colab": {
          "base_uri": "https://localhost:8080/"
        },
        "outputId": "2c807ed7-14fa-4e0c-a2f5-79e523206167"
      },
      "execution_count": null,
      "outputs": [
        {
          "output_type": "stream",
          "name": "stdout",
          "text": [
            "Generating dot target from models:\n",
            "/content/grammar.tx\n",
            "\u001b[31m\u001b[1m-- NOT overwriting: \u001b[0m/content/grammar.dot\n"
          ]
        }
      ]
    },
    {
      "cell_type": "code",
      "source": [
        "import pydot\n",
        "\n",
        "(graph,) = pydot.graph_from_dot_file('grammar.dot')\n",
        "graph.write_png('SQLGrammar.png')\n",
        "\n",
        "#For the model, you'll need a file with the source code and another with the grammar\n",
        "!textx generate <<filename source code>> --grammar <<grammar file name>> --target dot\n",
        "(graph,) = pydot.graph_from_dot_file('outputFile.dot')\n",
        "graph.write_png('finalFilename.png')\n",
        "\n"
      ],
      "metadata": {
        "id": "tZMV5tChBQhL",
        "colab": {
          "base_uri": "https://localhost:8080/",
          "height": 436
        },
        "outputId": "63db66df-f904-4607-d582-1d38b0b4ed4b"
      },
      "execution_count": null,
      "outputs": [
        {
          "output_type": "stream",
          "name": "stdout",
          "text": [
            "/bin/bash: line 1: warning: here-document at line 1 delimited by end-of-file (wanted `filename')\n",
            "/bin/bash: line 1: warning: here-document at line 1 delimited by end-of-file (wanted `grammar')\n",
            "Usage: textx generate [OPTIONS] MODEL_FILES...\n",
            "Try 'textx generate --help' for help.\n",
            "\n",
            "Error: Missing option '--target'.\n"
          ]
        },
        {
          "output_type": "error",
          "ename": "FileNotFoundError",
          "evalue": "[Errno 2] No such file or directory: 'outputFile.dot'",
          "traceback": [
            "\u001b[0;31m---------------------------------------------------------------------------\u001b[0m",
            "\u001b[0;31mFileNotFoundError\u001b[0m                         Traceback (most recent call last)",
            "\u001b[0;32m<ipython-input-43-391bc7048d80>\u001b[0m in \u001b[0;36m<cell line: 8>\u001b[0;34m()\u001b[0m\n\u001b[1;32m      6\u001b[0m \u001b[0;31m#For the model, you'll need a file with the source code and another with the grammar\u001b[0m\u001b[0;34m\u001b[0m\u001b[0;34m\u001b[0m\u001b[0m\n\u001b[1;32m      7\u001b[0m \u001b[0mget_ipython\u001b[0m\u001b[0;34m(\u001b[0m\u001b[0;34m)\u001b[0m\u001b[0;34m.\u001b[0m\u001b[0msystem\u001b[0m\u001b[0;34m(\u001b[0m\u001b[0;34m'textx generate <<filename source code>> --grammar <<grammar file name>> --target dot'\u001b[0m\u001b[0;34m)\u001b[0m\u001b[0;34m\u001b[0m\u001b[0;34m\u001b[0m\u001b[0m\n\u001b[0;32m----> 8\u001b[0;31m \u001b[0;34m(\u001b[0m\u001b[0mgraph\u001b[0m\u001b[0;34m,\u001b[0m\u001b[0;34m)\u001b[0m \u001b[0;34m=\u001b[0m \u001b[0mpydot\u001b[0m\u001b[0;34m.\u001b[0m\u001b[0mgraph_from_dot_file\u001b[0m\u001b[0;34m(\u001b[0m\u001b[0;34m'outputFile.dot'\u001b[0m\u001b[0;34m)\u001b[0m\u001b[0;34m\u001b[0m\u001b[0;34m\u001b[0m\u001b[0m\n\u001b[0m\u001b[1;32m      9\u001b[0m \u001b[0mgraph\u001b[0m\u001b[0;34m.\u001b[0m\u001b[0mwrite_png\u001b[0m\u001b[0;34m(\u001b[0m\u001b[0;34m'finalFilename.png'\u001b[0m\u001b[0;34m)\u001b[0m\u001b[0;34m\u001b[0m\u001b[0;34m\u001b[0m\u001b[0m\n\u001b[1;32m     10\u001b[0m \u001b[0;34m\u001b[0m\u001b[0m\n",
            "\u001b[0;32m/usr/local/lib/python3.10/dist-packages/pydot.py\u001b[0m in \u001b[0;36mgraph_from_dot_file\u001b[0;34m(path, encoding)\u001b[0m\n\u001b[1;32m    296\u001b[0m     \u001b[0;34m@\u001b[0m\u001b[0mrtype\u001b[0m\u001b[0;34m:\u001b[0m\u001b[0;31m \u001b[0m\u001b[0;31m`\u001b[0m\u001b[0mlist\u001b[0m\u001b[0;31m`\u001b[0m \u001b[0mof\u001b[0m\u001b[0;31m \u001b[0m\u001b[0;31m`\u001b[0m\u001b[0mpydot\u001b[0m\u001b[0;34m.\u001b[0m\u001b[0mDot\u001b[0m\u001b[0;31m`\u001b[0m\u001b[0;34m\u001b[0m\u001b[0;34m\u001b[0m\u001b[0m\n\u001b[1;32m    297\u001b[0m     \"\"\"\n\u001b[0;32m--> 298\u001b[0;31m     \u001b[0;32mwith\u001b[0m \u001b[0mio\u001b[0m\u001b[0;34m.\u001b[0m\u001b[0mopen\u001b[0m\u001b[0;34m(\u001b[0m\u001b[0mpath\u001b[0m\u001b[0;34m,\u001b[0m \u001b[0;34m'rt'\u001b[0m\u001b[0;34m,\u001b[0m \u001b[0mencoding\u001b[0m\u001b[0;34m=\u001b[0m\u001b[0mencoding\u001b[0m\u001b[0;34m)\u001b[0m \u001b[0;32mas\u001b[0m \u001b[0mf\u001b[0m\u001b[0;34m:\u001b[0m\u001b[0;34m\u001b[0m\u001b[0;34m\u001b[0m\u001b[0m\n\u001b[0m\u001b[1;32m    299\u001b[0m         \u001b[0ms\u001b[0m \u001b[0;34m=\u001b[0m \u001b[0mf\u001b[0m\u001b[0;34m.\u001b[0m\u001b[0mread\u001b[0m\u001b[0;34m(\u001b[0m\u001b[0;34m)\u001b[0m\u001b[0;34m\u001b[0m\u001b[0;34m\u001b[0m\u001b[0m\n\u001b[1;32m    300\u001b[0m     \u001b[0;32mif\u001b[0m \u001b[0;32mnot\u001b[0m \u001b[0mPY3\u001b[0m\u001b[0;34m:\u001b[0m\u001b[0;34m\u001b[0m\u001b[0;34m\u001b[0m\u001b[0m\n",
            "\u001b[0;31mFileNotFoundError\u001b[0m: [Errno 2] No such file or directory: 'outputFile.dot'"
          ]
        }
      ]
    },
    {
      "cell_type": "markdown",
      "source": [],
      "metadata": {
        "id": "muf6ZvaGmQoj"
      }
    }
  ]
}