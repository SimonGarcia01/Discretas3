{
 "cells": [
  {
   "cell_type": "code",
   "execution_count": 9,
   "id": "37ab2345",
   "metadata": {},
   "outputs": [
    {
     "name": "stdout",
     "output_type": "stream",
     "text": [
      "Collecting xlrd\n",
      "  Downloading xlrd-2.0.2-py2.py3-none-any.whl.metadata (3.5 kB)\n",
      "Downloading xlrd-2.0.2-py2.py3-none-any.whl (96 kB)\n",
      "Installing collected packages: xlrd\n",
      "Successfully installed xlrd-2.0.2\n"
     ]
    }
   ],
   "source": [
    "! pip install xlrd"
   ]
  },
  {
   "cell_type": "code",
   "execution_count": 2,
   "id": "92976e78",
   "metadata": {},
   "outputs": [],
   "source": [
    "import pandas as pd\n"
   ]
  },
  {
   "cell_type": "code",
   "execution_count": 3,
   "id": "5d762a81",
   "metadata": {},
   "outputs": [
    {
     "data": {
      "text/html": [
       "<div>\n",
       "<style scoped>\n",
       "    .dataframe tbody tr th:only-of-type {\n",
       "        vertical-align: middle;\n",
       "    }\n",
       "\n",
       "    .dataframe tbody tr th {\n",
       "        vertical-align: top;\n",
       "    }\n",
       "\n",
       "    .dataframe thead th {\n",
       "        text-align: right;\n",
       "    }\n",
       "</style>\n",
       "<table border=\"1\" class=\"dataframe\">\n",
       "  <thead>\n",
       "    <tr style=\"text-align: right;\">\n",
       "      <th></th>\n",
       "      <th>Consecutivo</th>\n",
       "      <th>Identificador</th>\n",
       "      <th>Fecha</th>\n",
       "      <th>Valor</th>\n",
       "      <th>Banco</th>\n",
       "      <th>Medio</th>\n",
       "    </tr>\n",
       "  </thead>\n",
       "  <tbody>\n",
       "    <tr>\n",
       "      <th>0</th>\n",
       "      <td>1</td>\n",
       "      <td>Im000841225Z</td>\n",
       "      <td>2022-09-12</td>\n",
       "      <td>113000</td>\n",
       "      <td>OCCIDENTE</td>\n",
       "      <td>ELECTRONICO</td>\n",
       "    </tr>\n",
       "    <tr>\n",
       "      <th>1</th>\n",
       "      <td>2</td>\n",
       "      <td>TX000312491z</td>\n",
       "      <td>2022-04-17</td>\n",
       "      <td>2450000</td>\n",
       "      <td>BANCOLOMBIA</td>\n",
       "      <td>ELECTRONICO</td>\n",
       "    </tr>\n",
       "    <tr>\n",
       "      <th>2</th>\n",
       "      <td>3</td>\n",
       "      <td>shP/00234345560Y</td>\n",
       "      <td>2022-12-12</td>\n",
       "      <td>10800000</td>\n",
       "      <td>DAVIVIENDA</td>\n",
       "      <td>ELECTRONICO</td>\n",
       "    </tr>\n",
       "    <tr>\n",
       "      <th>3</th>\n",
       "      <td>4</td>\n",
       "      <td>S1022121345s</td>\n",
       "      <td>2022-10-24</td>\n",
       "      <td>312000</td>\n",
       "      <td>AGRARIO</td>\n",
       "      <td>ELECTRONICO</td>\n",
       "    </tr>\n",
       "    <tr>\n",
       "      <th>4</th>\n",
       "      <td>5</td>\n",
       "      <td>S0134090807S</td>\n",
       "      <td>2022-04-23</td>\n",
       "      <td>431000</td>\n",
       "      <td>AVVILLAS</td>\n",
       "      <td>ELECTRONICO</td>\n",
       "    </tr>\n",
       "  </tbody>\n",
       "</table>\n",
       "</div>"
      ],
      "text/plain": [
       "   Consecutivo     Identificador      Fecha     Valor        Banco  \\\n",
       "0            1      Im000841225Z 2022-09-12    113000    OCCIDENTE   \n",
       "1            2      TX000312491z 2022-04-17   2450000  BANCOLOMBIA   \n",
       "2            3  shP/00234345560Y 2022-12-12  10800000   DAVIVIENDA   \n",
       "3            4      S1022121345s 2022-10-24    312000      AGRARIO   \n",
       "4            5      S0134090807S 2022-04-23    431000     AVVILLAS   \n",
       "\n",
       "         Medio  \n",
       "0  ELECTRONICO  \n",
       "1  ELECTRONICO  \n",
       "2  ELECTRONICO  \n",
       "3  ELECTRONICO  \n",
       "4  ELECTRONICO  "
      ]
     },
     "execution_count": 3,
     "metadata": {},
     "output_type": "execute_result"
    }
   ],
   "source": [
    "df = pd.read_excel(\"transacciones.xls\", sheet_name=\"Hoja1\")\n",
    "df.head()"
   ]
  },
  {
   "cell_type": "code",
   "execution_count": 13,
   "id": "2d9c000f",
   "metadata": {},
   "outputs": [
    {
     "data": {
      "text/plain": [
       "0        Im000841225Z\n",
       "1        TX000312491z\n",
       "2    shP/00234345560Y\n",
       "3        S1022121345s\n",
       "4        S0134090807S\n",
       "Name: Identificador, dtype: object"
      ]
     },
     "execution_count": 13,
     "metadata": {},
     "output_type": "execute_result"
    }
   ],
   "source": [
    "dfIds = df[\"Identificador\"]\n",
    "dfIds.head()"
   ]
  },
  {
   "cell_type": "markdown",
   "id": "1dda697f",
   "metadata": {},
   "source": [
    "# Impuestos"
   ]
  },
  {
   "cell_type": "markdown",
   "id": "2e7fca76",
   "metadata": {},
   "source": [
    "# Servicios Publicos"
   ]
  },
  {
   "cell_type": "code",
   "execution_count": 6,
   "id": "a8b75026",
   "metadata": {},
   "outputs": [],
   "source": [
    "from pyformlang.finite_automaton import NondeterministicFiniteAutomaton"
   ]
  },
  {
   "cell_type": "code",
   "execution_count": 7,
   "id": "42f2a145",
   "metadata": {},
   "outputs": [],
   "source": [
    "nfa = NondeterministicFiniteAutomaton()"
   ]
  },
  {
   "cell_type": "code",
   "execution_count": 8,
   "id": "19184bef",
   "metadata": {},
   "outputs": [
    {
     "data": {
      "text/plain": [
       "1"
      ]
     },
     "execution_count": 8,
     "metadata": {},
     "output_type": "execute_result"
    }
   ],
   "source": [
    "nfa.add_start_state(\"q0\")\n",
    "nfa.add_final_state(\"q13\")\n",
    "\n",
    "nfa.add_transition(\"q0\", \"S\", \"q1\")\n",
    "nfa.add_transition(\"q0\", \"s\", \"q1\")\n",
    "nfa.add_transition(\"q1\", \"1\", \"q2\")\n",
    "nfa.add_transition(\"q2\", \"1\", \"q3\")\n",
    "nfa.add_transition(\"q2\", \"0\", \"q3\")\n",
    "nfa.add_transition(\"q3\", \"2\", \"q4\")\n",
    "nfa.add_transition(\"q3\", \"3\", \"q5\")\n",
    "nfa.add_transition(\"q4\", \"2\", \"q6\")\n",
    "nfa.add_transition(\"q5\", \"3\", \"q6\")\n",
    "\n",
    "# q6 --> q7\n",
    "nfa.add_transition(\"q6\", \"0\", \"q7\")\n",
    "nfa.add_transition(\"q6\", \"1\", \"q7\")\n",
    "nfa.add_transition(\"q6\", \"2\", \"q7\")\n",
    "nfa.add_transition(\"q6\", \"3\", \"q7\")\n",
    "nfa.add_transition(\"q6\", \"4\", \"q7\")\n",
    "nfa.add_transition(\"q6\", \"5\", \"q7\")\n",
    "nfa.add_transition(\"q6\", \"6\", \"q7\")\n",
    "nfa.add_transition(\"q6\", \"7\", \"q7\")\n",
    "nfa.add_transition(\"q6\", \"8\", \"q7\")\n",
    "nfa.add_transition(\"q6\", \"9\", \"q7\")\n",
    "\n",
    "# q7 --> q8\n",
    "nfa.add_transition(\"q7\", \"0\", \"q8\")\n",
    "nfa.add_transition(\"q7\", \"1\", \"q8\")\n",
    "nfa.add_transition(\"q7\", \"2\", \"q8\")\n",
    "nfa.add_transition(\"q7\", \"3\", \"q8\")\n",
    "nfa.add_transition(\"q7\", \"4\", \"q8\")\n",
    "nfa.add_transition(\"q7\", \"5\", \"q8\")\n",
    "nfa.add_transition(\"q7\", \"6\", \"q8\")\n",
    "nfa.add_transition(\"q7\", \"7\", \"q8\")\n",
    "nfa.add_transition(\"q7\", \"8\", \"q8\")\n",
    "nfa.add_transition(\"q7\", \"9\", \"q8\")\n",
    "\n",
    "# q8 --> q9\n",
    "nfa.add_transition(\"q8\", \"0\", \"q9\")\n",
    "nfa.add_transition(\"q8\", \"1\", \"q9\")\n",
    "nfa.add_transition(\"q8\", \"2\", \"q9\")\n",
    "nfa.add_transition(\"q8\", \"3\", \"q9\")\n",
    "nfa.add_transition(\"q8\", \"4\", \"q9\")\n",
    "nfa.add_transition(\"q8\", \"5\", \"q9\")\n",
    "nfa.add_transition(\"q8\", \"6\", \"q9\")\n",
    "nfa.add_transition(\"q8\", \"7\", \"q9\")\n",
    "nfa.add_transition(\"q8\", \"8\", \"q9\")\n",
    "nfa.add_transition(\"q8\", \"9\", \"q9\")\n",
    "\n",
    "# q9 --> q10\n",
    "nfa.add_transition(\"q9\", \"0\", \"q10\")\n",
    "nfa.add_transition(\"q9\", \"1\", \"q10\")\n",
    "nfa.add_transition(\"q9\", \"2\", \"q10\")\n",
    "nfa.add_transition(\"q9\", \"3\", \"q10\")\n",
    "nfa.add_transition(\"q9\", \"4\", \"q10\")\n",
    "nfa.add_transition(\"q9\", \"5\", \"q10\")\n",
    "nfa.add_transition(\"q9\", \"6\", \"q10\")\n",
    "nfa.add_transition(\"q9\", \"7\", \"q10\")\n",
    "nfa.add_transition(\"q9\", \"8\", \"q10\")\n",
    "nfa.add_transition(\"q9\", \"9\", \"q10\")\n",
    "\n",
    "# q10 --> q11\n",
    "nfa.add_transition(\"q10\", \"0\", \"q11\")\n",
    "nfa.add_transition(\"q10\", \"1\", \"q11\")\n",
    "nfa.add_transition(\"q10\", \"2\", \"q11\")\n",
    "nfa.add_transition(\"q10\", \"3\", \"q11\")\n",
    "nfa.add_transition(\"q10\", \"4\", \"q11\")\n",
    "nfa.add_transition(\"q10\", \"5\", \"q11\")\n",
    "nfa.add_transition(\"q10\", \"6\", \"q11\")\n",
    "nfa.add_transition(\"q10\", \"7\", \"q11\")\n",
    "nfa.add_transition(\"q10\", \"8\", \"q11\")\n",
    "nfa.add_transition(\"q10\", \"9\", \"q11\")\n",
    "\n",
    "# q11 --> q12\n",
    "nfa.add_transition(\"q11\", \"0\", \"q12\")\n",
    "nfa.add_transition(\"q11\", \"1\", \"q12\")\n",
    "nfa.add_transition(\"q11\", \"2\", \"q12\")\n",
    "nfa.add_transition(\"q11\", \"3\", \"q12\")\n",
    "nfa.add_transition(\"q11\", \"4\", \"q12\")\n",
    "nfa.add_transition(\"q11\", \"5\", \"q12\")\n",
    "nfa.add_transition(\"q11\", \"6\", \"q12\")\n",
    "nfa.add_transition(\"q11\", \"7\", \"q12\")\n",
    "nfa.add_transition(\"q11\", \"8\", \"q12\")\n",
    "nfa.add_transition(\"q11\", \"9\", \"q12\")\n",
    "\n",
    "# q10 --> q11\n",
    "nfa.add_transition(\"q12\", \"S\", \"q13\")\n",
    "nfa.add_transition(\"q12\", \"s\", \"q13\")\n",
    "\n"
   ]
  },
  {
   "cell_type": "code",
   "execution_count": 14,
   "id": "cd41884d",
   "metadata": {},
   "outputs": [
    {
     "name": "stdout",
     "output_type": "stream",
     "text": [
      "3     S1022121345s\n",
      "14    s1022509981s\n",
      "16    s1033977669S\n",
      "29    S1122199224s\n",
      "44    s1022988163s\n",
      "Name: Identificador, dtype: object\n"
     ]
    }
   ],
   "source": [
    "publicServices = dfIds[dfIds.map(nfa.accepts)]\n",
    "print(publicServices.head())"
   ]
  }
 ],
 "metadata": {
  "kernelspec": {
   "display_name": "Python 3",
   "language": "python",
   "name": "python3"
  },
  "language_info": {
   "codemirror_mode": {
    "name": "ipython",
    "version": 3
   },
   "file_extension": ".py",
   "mimetype": "text/x-python",
   "name": "python",
   "nbconvert_exporter": "python",
   "pygments_lexer": "ipython3",
   "version": "3.13.5"
  }
 },
 "nbformat": 4,
 "nbformat_minor": 5
}
