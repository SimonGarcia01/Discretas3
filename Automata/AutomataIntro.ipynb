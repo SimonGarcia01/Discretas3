{
 "cells": [
  {
   "cell_type": "code",
   "execution_count": 1,
   "id": "3f555228",
   "metadata": {},
   "outputs": [],
   "source": [
    "from pyformlang.finite_automaton import DeterministicFiniteAutomaton, State"
   ]
  },
  {
   "cell_type": "code",
   "execution_count": 2,
   "id": "9b2b9646",
   "metadata": {},
   "outputs": [],
   "source": [
    "q0 = State(\"q0\")\n",
    "q1 = State(\"q1\")"
   ]
  },
  {
   "cell_type": "code",
   "execution_count": null,
   "id": "013d7a25",
   "metadata": {},
   "outputs": [],
   "source": [
    "dfa = DeterministicFiniteAutomaton(\n",
    "    states={q0, q1}, #Possible states\n",
    "    input_symbols={\"0\",\"1\"}, #The alphabet\n",
    "    start_state=q0, #Initial states\n",
    "    final_states={q0} # The acceptance states\n",
    ")"
   ]
  },
  {
   "cell_type": "code",
   "execution_count": null,
   "id": "515b05a5",
   "metadata": {},
   "outputs": [
    {
     "data": {
      "text/plain": [
       "1"
      ]
     },
     "execution_count": 7,
     "metadata": {},
     "output_type": "execute_result"
    }
   ],
   "source": [
    "#All the transitions\n",
    "dfa.add_transitions([\n",
    "    (q0, \"0\", q1),\n",
    "    (q0, \"1\", q1),\n",
    "    (q1, \"0\", q0),\n",
    "    (q1, \"1\", q0),\n",
    "])"
   ]
  },
  {
   "cell_type": "code",
   "execution_count": 9,
   "id": "b0e0bc9a",
   "metadata": {},
   "outputs": [
    {
     "name": "stdout",
     "output_type": "stream",
     "text": [
      "Word '00' is accepted:  True\n",
      "Word '01' is accepted:  True\n",
      "Word '100' is not accepted:  False\n",
      "Word '1' is not accepted:  False\n"
     ]
    }
   ],
   "source": [
    "print(\"Word '00' is accepted: \", dfa.accepts(\"00\"))\n",
    "print(\"Word '01' is accepted: \", dfa.accepts(\"01\"))\n",
    "print(\"Word '100' is not accepted: \", dfa.accepts(\"100\"))\n",
    "print(\"Word '1' is not accepted: \", dfa.accepts(\"1\"))"
   ]
  },
  {
   "cell_type": "code",
   "execution_count": 10,
   "id": "e905e5c7",
   "metadata": {},
   "outputs": [
    {
     "data": {
      "text/plain": [
       "1"
      ]
     },
     "execution_count": 10,
     "metadata": {},
     "output_type": "execute_result"
    }
   ],
   "source": [
    "from pyformlang.finite_automaton import NondeterministicFiniteAutomaton\n",
    "\n",
    "nfa = NondeterministicFiniteAutomaton()\n",
    "# Add the starting state\n",
    "nfa.add_start_state(\"q0\")\n",
    "\n",
    "#Add the acceptance states\n",
    "nfa.add_final_state(\"q4\")\n",
    "nfa.add_final_state(\"q5\")\n",
    "nfa.add_final_state(\"q3\")\n",
    "\n",
    "#Add the transitions\n",
    "nfa.add_transition(\"q0\",\"a\",\"q1\")\n",
    "nfa.add_transition(\"q0\",\"a\",\"q2\")\n",
    "nfa.add_transition(\"q0\",\"c\",\"q3\")\n",
    "nfa.add_transition(\"q1\",\"b\",\"q4\")\n",
    "nfa.add_transition(\"q4\",\"a\",\"q4\")\n",
    "nfa.add_transition(\"q2\",\"c\",\"q5\")\n",
    "nfa.add_transition(\"q5\",\"c\",\"q5\")\n",
    "nfa.add_transition(\"q3\",\"c\",\"q3\")\n",
    "\n"
   ]
  }
 ],
 "metadata": {
  "kernelspec": {
   "display_name": "Python 3",
   "language": "python",
   "name": "python3"
  },
  "language_info": {
   "codemirror_mode": {
    "name": "ipython",
    "version": 3
   },
   "file_extension": ".py",
   "mimetype": "text/x-python",
   "name": "python",
   "nbconvert_exporter": "python",
   "pygments_lexer": "ipython3",
   "version": "3.13.5"
  }
 },
 "nbformat": 4,
 "nbformat_minor": 5
}
