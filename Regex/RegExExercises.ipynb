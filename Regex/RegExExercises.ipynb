{
  "cells": [
    {
      "cell_type": "markdown",
      "metadata": {
        "id": "view-in-github",
        "colab_type": "text"
      },
      "source": [
        "<a href=\"https://colab.research.google.com/github/angievig/CyED3/blob/main/RegExExercises.ipynb\" target=\"_parent\"><img src=\"https://colab.research.google.com/assets/colab-badge.svg\" alt=\"Open In Colab\"/></a>"
      ]
    },
    {
      "cell_type": "markdown",
      "metadata": {
        "id": "WTGJQSoPVzvi"
      },
      "source": [
        "# Regular Expressions in Python"
      ]
    },
    {
      "cell_type": "code",
      "source": [],
      "metadata": {
        "id": "P_yyj1HlV1UM"
      },
      "execution_count": null,
      "outputs": []
    },
    {
      "cell_type": "markdown",
      "metadata": {
        "id": "saBC161TVzvj"
      },
      "source": [
        "1) Check wether the given strings contain 0xA0. Display the line and a boolean result."
      ]
    },
    {
      "cell_type": "code",
      "execution_count": null,
      "metadata": {
        "colab": {
          "base_uri": "https://localhost:8080/"
        },
        "id": "qqtSmxWYVzvk",
        "outputId": "6c124067-3fc7-4401-9d56-1c31d1e8a3c5"
      },
      "outputs": [
        {
          "output_type": "stream",
          "name": "stdout",
          "text": [
            "True\n",
            "start address: 0xA0 True\n",
            "func address: 0xC0 False\n",
            "end address: 0xFF False\n",
            "func address: 0xB0 False\n"
          ]
        }
      ],
      "source": [
        "import re\n",
        "\n",
        "lines = ['start address: 0xA0', 'func address: 0xC0',\n",
        "         'end address: 0xFF', 'func address: 0xB0']\n",
        "\n",
        "#defining the regEx\n",
        "pattern1= r'0xA0'\n",
        "\n",
        "#generating the regExObject\n",
        "regExObject= re.compile(pattern1)\n",
        "\n",
        "#testing the search method\n",
        "print(bool(regExObject.search(\"some stuff 0xA0 some other stuff\")))\n",
        "\n",
        "\n",
        "#Solving the problem\n",
        "\n",
        "for line in lines:\n",
        "  print(line,  bool(regExObject.search(line)))\n",
        "\n",
        "\n",
        "\n"
      ]
    },
    {
      "cell_type": "markdown",
      "metadata": {
        "id": "kJkQ-odaVzvl"
      },
      "source": [
        "2) Replace all occurrences of 5 with five for the given strings"
      ]
    },
    {
      "cell_type": "code",
      "execution_count": null,
      "metadata": {
        "colab": {
          "base_uri": "https://localhost:8080/"
        },
        "id": "KoyKpTozVzvl",
        "outputId": "f5f8e8da-36ad-4a98-972c-af0b8bf23d1f"
      },
      "outputs": [
        {
          "output_type": "stream",
          "name": "stdout",
          "text": [
            "['They run five kilometers in five minutes', 'They were only five girls', 'We are eating five apples and five oranges']\n"
          ]
        }
      ],
      "source": [
        "lines = ['They run 5 kilometers in 5 minutes',\n",
        "         'They were only 5 girls',\n",
        "         'We are eating 5 apples and 5 oranges']\n",
        "\n",
        "#['They run five kilometers in five minutes', 'They were only five girls', 'We are eating five apples and five oranges']\n",
        "\n",
        "#defining the regEx\n",
        "pattern2= r'5'\n",
        "#generating the regExObject\n",
        "regExObject= re.compile(pattern2)\n",
        "newList=[]\n",
        "\n",
        "for line in lines:\n",
        "  newList.append(regExObject.sub(\"five\", line))\n",
        "\n",
        "print(newList)\n",
        "\n",
        "\n"
      ]
    },
    {
      "cell_type": "markdown",
      "metadata": {
        "id": "R3yz2PrNVzvl"
      },
      "source": [
        "3) Replace only the first occurrence of 5 with five for the given strings"
      ]
    },
    {
      "cell_type": "code",
      "execution_count": null,
      "metadata": {
        "colab": {
          "base_uri": "https://localhost:8080/"
        },
        "id": "dyQA9f9GVzvm",
        "outputId": "8f7d0361-02f0-4d8d-fe27-a2ac7ec6171e"
      },
      "outputs": [
        {
          "output_type": "stream",
          "name": "stdout",
          "text": [
            "['They run five kilometers in 5 minutes', 'They were only five girls', 'We are eating five apples and 5 oranges']\n"
          ]
        }
      ],
      "source": [
        "lines = ['They run 5 kilometers in 5 minutes',\n",
        "         'They were only 5 girls',\n",
        "         'We are eating 5 apples and 5 oranges']\n",
        "#defining the regEx\n",
        "pattern2= r'5'\n",
        "#generating the regExObject\n",
        "regExObject= re.compile(pattern2)\n",
        "newList=[]\n",
        "\n",
        "for line in lines:\n",
        "  newList.append(regExObject.sub(\"five\", line, 1))\n",
        "\n",
        "print(newList)"
      ]
    },
    {
      "cell_type": "markdown",
      "metadata": {
        "id": "yDegICAtVzvm"
      },
      "source": [
        "4) For the given list, filter all elements that contain eiter a or w."
      ]
    },
    {
      "cell_type": "code",
      "execution_count": null,
      "metadata": {
        "colab": {
          "base_uri": "https://localhost:8080/"
        },
        "id": "l2zLXkMXVzvm",
        "outputId": "b37b1771-891b-44db-b8bd-fc87f99cc224"
      },
      "outputs": [
        {
          "output_type": "stream",
          "name": "stdout",
          "text": [
            "['fast', 'wonderful', 'army', 'wally', 'waterpolo', 'eat', 'new']\n"
          ]
        }
      ],
      "source": [
        "words = ['fast','some','wonderful','army','wally','waterpolo','food','eat','new','corn']\n",
        "#['fast', 'wonderful', 'army', 'wally', 'waterpolo', 'eat', 'new']\n",
        "\n",
        "#defining the regEx\n",
        "pattern2= r'[aw]'\n",
        "#generating the regExObject\n",
        "regExObject= re.compile(pattern2)\n",
        "newList=[]\n",
        "\n",
        "newList = [word for word in words if regExObject.search(word)]\n",
        "\n",
        "print(newList)"
      ]
    },
    {
      "cell_type": "markdown",
      "metadata": {
        "id": "yFwwCBIeVzvm"
      },
      "source": [
        "5) For the given list, filter all elements that contain both e and n."
      ]
    },
    {
      "cell_type": "code",
      "execution_count": null,
      "metadata": {
        "colab": {
          "base_uri": "https://localhost:8080/"
        },
        "id": "K3aQVKO3Vzvm",
        "outputId": "f57fa6fb-02e0-4bff-e7ed-ca598949411e"
      },
      "outputs": [
        {
          "output_type": "stream",
          "name": "stdout",
          "text": [
            "['wonderful', 'new']\n"
          ]
        }
      ],
      "source": [
        "words = ['fast','some','wonderful','army','wally','waterpolo','food','eat','new','corn']\n",
        "\n",
        "#['wonderful', 'new']\n",
        "\n",
        "#defining the regEx\n",
        "pattern= r'e.*n|n.*e'\n",
        "#generating the regExObject\n",
        "regExObject= re.compile(pattern)\n",
        "newList=[]\n",
        "\n",
        "newList = [word for word in words if regExObject.search(word)]\n",
        "\n",
        "print(newList)"
      ]
    },
    {
      "cell_type": "markdown",
      "metadata": {
        "id": "sayNsQM0Vzvn"
      },
      "source": [
        "6. For the given list, filter all strings that start with be"
      ]
    },
    {
      "cell_type": "code",
      "execution_count": null,
      "metadata": {
        "colab": {
          "base_uri": "https://localhost:8080/"
        },
        "id": "GbjP9s0WVzvn",
        "outputId": "6dd0c1ab-1f0f-4ec4-ceaa-a7a4a1783aa5"
      },
      "outputs": [
        {
          "output_type": "stream",
          "name": "stdout",
          "text": [
            "['be nice', 'better?']\n"
          ]
        }
      ],
      "source": [
        "lines = ['be nice', 'I will be a king','\"best\"','better?',' bet']\n",
        "\n",
        "#['be nice', 'better?']\n",
        "\n",
        "#defining the regEx\n",
        "pattern= r'^be'\n",
        "#generating the regExObject\n",
        "regExObject= re.compile(pattern)\n",
        "newList=[]\n",
        "\n",
        "newList = [word for word in lines if regExObject.search(word)]\n",
        "\n",
        "print(newList)"
      ]
    },
    {
      "cell_type": "markdown",
      "metadata": {
        "id": "v8FoHQcqVzvn"
      },
      "source": [
        "7. For the given input string, change only the whole word red to brown."
      ]
    },
    {
      "cell_type": "code",
      "execution_count": null,
      "metadata": {
        "colab": {
          "base_uri": "https://localhost:8080/"
        },
        "id": "BcOOamfoVzvn",
        "outputId": "1c80e2bd-844e-4e16-fd83-ffc80ac4f554"
      },
      "outputs": [
        {
          "output_type": "stream",
          "name": "stdout",
          "text": [
            "bred brown spread credible brown.\n"
          ]
        }
      ],
      "source": [
        "words = 'bred red spread credible red.'\n",
        "#bred brown spread credible brown.\n",
        "#defining the regEx\n",
        "pattern= r'\\bred\\b'\n",
        "#generating the regExObject\n",
        "regExObject= re.compile(pattern)\n",
        "print(regExObject.sub(\"brown\", words))"
      ]
    },
    {
      "cell_type": "markdown",
      "metadata": {
        "id": "PJWfI4yvVzvn"
      },
      "source": [
        "8. For the given input list, filter all elements that contain 42 surrounded by word characters."
      ]
    },
    {
      "cell_type": "code",
      "execution_count": null,
      "metadata": {
        "colab": {
          "base_uri": "https://localhost:8080/"
        },
        "id": "vZTkV1b-Vzvn",
        "outputId": "49614dea-faaf-4118-e637-0df546f12a9f"
      },
      "outputs": [
        {
          "output_type": "stream",
          "name": "stdout",
          "text": [
            "['hi42bye', 'nice1423', 'cool_42a', '_42_', 'lucky42man']\n"
          ]
        }
      ],
      "source": [
        "words = ['hi42bye', 'nice1423', 'bad42', 'cool_42a', '42fake', '_42_', 'lucky42man','manimal_42 firestorm','xxx\\n42_27']\n",
        "\n",
        "#['hi42bye', 'nice1423', 'cool_42a', '_42_', 'lucky42man']\n",
        "#defining the regEx\n",
        "pattern= r'\\w42\\w'\n",
        "#generating the regExObject\n",
        "regExObject= re.compile(pattern)\n",
        "newList=[]\n",
        "\n",
        "newList = [word for word in words if regExObject.search(word)]\n",
        "\n",
        "print(newList)"
      ]
    },
    {
      "cell_type": "markdown",
      "metadata": {
        "id": "0O4hCV9vVzvo"
      },
      "source": [
        "9. For the given input list, filter all elements that start with den or end with ly."
      ]
    },
    {
      "cell_type": "code",
      "execution_count": null,
      "metadata": {
        "colab": {
          "base_uri": "https://localhost:8080/"
        },
        "id": "NgdRNzUMVzvo",
        "outputId": "839bff0d-de9a-4b7b-d25f-51ec876c707b"
      },
      "outputs": [
        {
          "output_type": "stream",
          "name": "stdout",
          "text": [
            "['lovely', '2 lonely', 'dent']\n"
          ]
        }
      ],
      "source": [
        "words = ['lovely', '1\\ndentist', '2 lonely', 'eden', 'fly\\n', 'dent']\n",
        "#['lovely', '2 lonely', 'dent']\n",
        "#defining the regEx\n",
        "pattern= r'\\Aden|ly\\Z'\n",
        "#generating the regExObject\n",
        "regExObject= re.compile(pattern)\n",
        "newList=[]\n",
        "\n",
        "newList = [word for word in words if regExObject.search(word)]\n",
        "\n",
        "print(newList)"
      ]
    },
    {
      "cell_type": "markdown",
      "metadata": {
        "id": "RwC0vCxZVzvo"
      },
      "source": [
        "10. For the given input list, replace hand with X for all elements that start with hand followed by at least one word character."
      ]
    },
    {
      "cell_type": "code",
      "execution_count": null,
      "metadata": {
        "id": "5viChezKVzvo",
        "outputId": "5ba4eb7f-0f3a-4935-d1a7-19da97663158"
      },
      "outputs": [
        {
          "name": "stdout",
          "output_type": "stream",
          "text": [
            "['Xed', 'hand', 'Xy', 'un-handed', 'Xle', 'hand-2']\n"
          ]
        }
      ],
      "source": [
        "words = ['handed', 'hand', 'handy', 'un-handed', 'handle', 'hand-2']"
      ]
    },
    {
      "cell_type": "markdown",
      "metadata": {
        "id": "dXV1PMfpVzvo"
      },
      "source": [
        "11. For the given strings, replace all occurrences of removed or reed or received or refused with X."
      ]
    },
    {
      "cell_type": "code",
      "execution_count": null,
      "metadata": {
        "id": "Zlb_fxRQVzvo",
        "outputId": "938e3d6a-effd-486e-84a8-11e7b5c41043"
      },
      "outputs": [
        {
          "name": "stdout",
          "output_type": "stream",
          "text": [
            "['cX refuse X read', 'X X redo X']\n"
          ]
        }
      ],
      "source": [
        "strings = ['creed refuse removed read','refused reed redo received']"
      ]
    },
    {
      "cell_type": "markdown",
      "metadata": {
        "id": "gp_q0WU3Vzvo"
      },
      "source": [
        "12. Replace all occurrences of \\e with e."
      ]
    },
    {
      "cell_type": "code",
      "execution_count": null,
      "metadata": {
        "id": "uTOfPV57Vzvo",
        "outputId": "5ccb13d3-72fc-445f-9983-2784ef4315ec"
      },
      "outputs": [
        {
          "name": "stdout",
          "output_type": "stream",
          "text": [
            "there are common aspects among the alternations\n"
          ]
        }
      ],
      "source": [
        "string = r'th\\er\\e ar\\e common asp\\ects among th\\e alt\\ernations'"
      ]
    },
    {
      "cell_type": "markdown",
      "metadata": {
        "id": "OQCKejOrVzvp"
      },
      "source": [
        "13. For the list items, filter all elements starting with hand and ending immediately with at most one character or le."
      ]
    },
    {
      "cell_type": "code",
      "execution_count": null,
      "metadata": {
        "id": "5hVZUj2HVzvp",
        "outputId": "e45febfa-8e98-4f79-d864-af22f5993518"
      },
      "outputs": [
        {
          "name": "stdout",
          "output_type": "stream",
          "text": [
            "['hand', 'handy', 'hands', 'handle']\n"
          ]
        }
      ],
      "source": [
        "items = ['handed', 'hand', 'handled', 'handy', 'unhand', 'hands', 'handle']"
      ]
    },
    {
      "cell_type": "markdown",
      "metadata": {
        "id": "FNFp6eqzVzvp"
      },
      "source": [
        "14. For the given input strings, remove everything from the first occurrence of i till the end of the string."
      ]
    },
    {
      "cell_type": "code",
      "execution_count": null,
      "metadata": {
        "id": "uoS5ZH9mVzvp",
        "outputId": "7bdeea87-1f3a-4b4b-9767-5225d3dfb885"
      },
      "outputs": [
        {
          "name": "stdout",
          "output_type": "stream",
          "text": [
            "['remove the spec', 'characters wh', '']\n"
          ]
        }
      ],
      "source": [
        "strings = ['remove the special meaning of such constructs',\n",
        "           'characters while constructing',\n",
        "           'input output']"
      ]
    },
    {
      "cell_type": "markdown",
      "metadata": {
        "id": "X5mExEwtVzvp"
      },
      "source": [
        "15. For the input list words, filter all elements starting with s or t and having a maximum of 6 characters."
      ]
    },
    {
      "cell_type": "code",
      "execution_count": null,
      "metadata": {
        "id": "LVpJy-C-Vzvp",
        "outputId": "bca917d4-99aa-49b0-8bfd-ff687bcb15dd"
      },
      "outputs": [
        {
          "name": "stdout",
          "output_type": "stream",
          "text": [
            "['subtle', 'sets', 't set', 'site']\n"
          ]
        }
      ],
      "source": [
        "words = ['sequoia', 'subtle', 'exhibit', 'asset', 'sets', 't set', 'site']"
      ]
    },
    {
      "cell_type": "markdown",
      "metadata": {
        "id": "y1DojGn-Vzvp"
      },
      "source": [
        "16. For the given strings, extract the matching portion from the first is to the last t"
      ]
    },
    {
      "cell_type": "code",
      "execution_count": null,
      "metadata": {
        "id": "HFgPVnOVVzvp",
        "outputId": "7a1f1def-02d5-40e4-e68b-7c8324c70ec4"
      },
      "outputs": [
        {
          "name": "stdout",
          "output_type": "stream",
          "text": [
            "['is the biggest fruit', 'ission is to read and practice consistent']\n"
          ]
        }
      ],
      "source": [
        "strings = ['This the biggest fruit you have seen?',\n",
        "           'Your mission is to read and practice consistently']"
      ]
    },
    {
      "cell_type": "markdown",
      "metadata": {
        "id": "xy-OWJRgVzvp"
      },
      "source": [
        "17. Find the starting index of the first occurrence of is or the or was or to for the given input strings."
      ]
    },
    {
      "cell_type": "code",
      "execution_count": null,
      "metadata": {
        "id": "yYatoGgtVzvp",
        "outputId": "69faa56c-2fdb-4584-9147-2c137fc39489"
      },
      "outputs": [
        {
          "name": "stdout",
          "output_type": "stream",
          "text": [
            "[12, 4, 2, 4]\n"
          ]
        }
      ],
      "source": [
        "strings = ['match after the last newline character',\n",
        "           'and then you want to test',\n",
        "           'this is good bye then',\n",
        "           'who was there to see?']"
      ]
    },
    {
      "cell_type": "markdown",
      "metadata": {
        "id": "i-rDZp49Vzvq"
      },
      "source": [
        "18. The given input string contains : exactly once. Extract all characters after the : as output."
      ]
    },
    {
      "cell_type": "code",
      "execution_count": null,
      "metadata": {
        "id": "WeXRb_zMVzvq",
        "outputId": "51db6522-86da-43c9-e5d9-12b3e34d7702"
      },
      "outputs": [
        {
          "name": "stdout",
          "output_type": "stream",
          "text": [
            "apple, mango, guava, blueberry\n"
          ]
        }
      ],
      "source": [
        "items = 'fruits:apple, mango, guava, blueberry'"
      ]
    },
    {
      "cell_type": "markdown",
      "metadata": {
        "id": "T8DJknQeVzvq"
      },
      "source": [
        "19. Delete from ( to the next occurrence of ) unless they contain parentheses characters in between."
      ]
    },
    {
      "cell_type": "code",
      "execution_count": null,
      "metadata": {
        "id": "aVYP_adkVzvq",
        "outputId": "ec7559fc-a313-45da-c223-656855a966e6"
      },
      "outputs": [
        {
          "name": "stdout",
          "output_type": "stream",
          "text": [
            "['def factorial', 'a/b + c%d - (e+*4)', 'Hi there. Nice day(a']\n"
          ]
        }
      ],
      "source": [
        "strings = ['def factorial()',\n",
        "           'a/b(division) + c%d(#modulo) - (e+(j/k-3)*4)',\n",
        "           'Hi there(greeting). Nice day(a(b)']"
      ]
    },
    {
      "cell_type": "markdown",
      "metadata": {
        "id": "BplffMQLVzwA"
      },
      "source": [
        "20. Given a list of strings, find all occurances of the digits in each string."
      ]
    },
    {
      "cell_type": "code",
      "execution_count": null,
      "metadata": {
        "id": "ILekqJLxVzwA",
        "outputId": "77a4a277-c822-4bd9-c5cb-7add93c8abf9"
      },
      "outputs": [
        {
          "name": "stdout",
          "output_type": "stream",
          "text": [
            "[['2', '4', '5'], ['1', '1', '3', '0'], ['7', '0', '0'], ['1', '1', '1', '5'], ['0', '8', '1', '0', '0', '9', '0', '0']]\n"
          ]
        }
      ],
      "source": [
        "time_sentences = [\"Monday: The doctor's appointment is at 2:45pm.\",\n",
        "                  \"Tuesday: The dentist's appointment is at 11:30 am.\",\n",
        "                  \"Wednesday: At 7:00pm, there is a basketball game!\",\n",
        "                  \"Thursday: Be back home by 11:15 pm at the latest.\",\n",
        "                  \"Friday: Take the train at 08:10 am, arrive at 09:00am.\"]"
      ]
    },
    {
      "cell_type": "markdown",
      "metadata": {
        "id": "IF2AkBkHVzwA"
      },
      "source": [
        "21. Given a list of strings, group and find the hours and minutes in each string."
      ]
    },
    {
      "cell_type": "code",
      "execution_count": null,
      "metadata": {
        "id": "QqmeUsY2VzwA",
        "outputId": "ff44caff-3706-482c-bbf5-f6716b2b9b60"
      },
      "outputs": [
        {
          "name": "stdout",
          "output_type": "stream",
          "text": [
            "[[('2', '45')], [('11', '30')], [('7', '00')], [('11', '15')], [('08', '10'), ('09', '00')]]\n"
          ]
        }
      ],
      "source": [
        "time_sentences = [\"Monday: The doctor's appointment is at 2:45pm.\",\n",
        "                  \"Tuesday: The dentist's appointment is at 11:30 am.\",\n",
        "                  \"Wednesday: At 7:00pm, there is a basketball game!\",\n",
        "                  \"Thursday: Be back home by 11:15 pm at the latest.\",\n",
        "                  \"Friday: Take the train at 08:10 am, arrive at 09:00am.\"]"
      ]
    },
    {
      "cell_type": "markdown",
      "metadata": {
        "id": "yuiD21q6VzwA"
      },
      "source": [
        "22. Given a list of strings, replace weekdays with ???."
      ]
    },
    {
      "cell_type": "code",
      "execution_count": null,
      "metadata": {
        "id": "PaFetd6XVzwA",
        "outputId": "5bc3068b-b472-49c4-ce3a-53ae1e7d6fe7"
      },
      "outputs": [
        {
          "name": "stdout",
          "output_type": "stream",
          "text": [
            "[\"???: The doctor's appointment is at 2:45pm.\", \"???: The dentist's appointment is at 11:30 am.\", '???: At 7:00pm, there is a basketball game!', '???: Be back home by 11:15 pm at the latest.', '???: Take the train at 08:10 am, arrive at 09:00am.']\n"
          ]
        }
      ],
      "source": [
        "time_sentences = [\"Monday: The doctor's appointment is at 2:45pm.\",\n",
        "                  \"Tuesday: The dentist's appointment is at 11:30 am.\",\n",
        "                  \"Wednesday: At 7:00pm, there is a basketball game!\",\n",
        "                  \"Thursday: Be back home by 11:15 pm at the latest.\",\n",
        "                  \"Friday: Take the train at 08:10 am, arrive at 09:00am.\"]"
      ]
    },
    {
      "cell_type": "markdown",
      "metadata": {
        "id": "68xpF245VzwB"
      },
      "source": [
        "23. Given a list of strings, replace weekdays with 3 letter abbrevations."
      ]
    },
    {
      "cell_type": "code",
      "execution_count": null,
      "metadata": {
        "id": "A2SDENwzVzwB",
        "outputId": "eb206a99-4410-4410-a002-772bbc42927e"
      },
      "outputs": [
        {
          "name": "stdout",
          "output_type": "stream",
          "text": [
            "[\"Mon: The doctor's appointment is at 2:45pm.\", \"Tue: The dentist's appointment is at 11:30 am.\", 'Wed: At 7:00pm, there is a basketball game!', 'Thu: Be back home by 11:15 pm at the latest.', 'Fri: Take the train at 08:10 am, arrive at 09:00am.']\n"
          ]
        }
      ],
      "source": [
        "time_sentences = [\"Monday: The doctor's appointment is at 2:45pm.\",\n",
        "                  \"Tuesday: The dentist's appointment is at 11:30 am.\",\n",
        "                  \"Wednesday: At 7:00pm, there is a basketball game!\",\n",
        "                  \"Thursday: Be back home by 11:15 pm at the latest.\",\n",
        "                  \"Friday: Take the train at 08:10 am, arrive at 09:00am.\"]"
      ]
    },
    {
      "cell_type": "markdown",
      "metadata": {
        "id": "ZRGyzCwpVzwB"
      },
      "source": [
        "24. Given a list of strings, extract the entire time, the hours, the minutes, and the period for each string."
      ]
    },
    {
      "cell_type": "code",
      "execution_count": null,
      "metadata": {
        "id": "fMSuqxB-VzwB",
        "outputId": "0575c780-f7ef-473b-b310-1767c4fe8b2c"
      },
      "outputs": [
        {
          "name": "stdout",
          "output_type": "stream",
          "text": [
            "[['2:45pm'], ['11:30 am'], ['7:00pm'], ['11:15 pm'], ['08:10 am', '09:00am']]\n"
          ]
        }
      ],
      "source": [
        "time_sentences = [\"Monday: The doctor's appointment is at 2:45pm.\",\n",
        "                  \"Tuesday: The dentist's appointment is at 11:30 am.\",\n",
        "                  \"Wednesday: At 7:00pm, there is a basketball game!\",\n",
        "                  \"Thursday: Be back home by 11:15 pm at the latest.\",\n",
        "                  \"Friday: Take the train at 08:10 am, arrive at 09:00am.\"]"
      ]
    },
    {
      "cell_type": "markdown",
      "metadata": {
        "id": "osC3Pt1oVzwB"
      },
      "source": [
        "25. Replace the space character that occurs after a word ending with a or r with a newline character."
      ]
    },
    {
      "cell_type": "code",
      "execution_count": null,
      "metadata": {
        "id": "v7wQ8vXUVzwB",
        "outputId": "19dafa36-0a68-4bda-9266-02146621e023"
      },
      "outputs": [
        {
          "name": "stdout",
          "output_type": "stream",
          "text": [
            "area\n",
            "not a\n",
            "_a2_ roar\n",
            "took 22\n"
          ]
        }
      ],
      "source": [
        "string = 'area not a _a2_ roar took 22'"
      ]
    },
    {
      "cell_type": "markdown",
      "metadata": {
        "id": "RMl8RH_0VzwB"
      },
      "source": []
    }
  ],
  "metadata": {
    "kernelspec": {
      "display_name": "base",
      "language": "python",
      "name": "python3"
    },
    "language_info": {
      "codemirror_mode": {
        "name": "ipython",
        "version": 3
      },
      "file_extension": ".py",
      "mimetype": "text/x-python",
      "name": "python",
      "nbconvert_exporter": "python",
      "pygments_lexer": "ipython3",
      "version": "3.9.7"
    },
    "orig_nbformat": 4,
    "colab": {
      "provenance": [],
      "include_colab_link": true
    }
  },
  "nbformat": 4,
  "nbformat_minor": 0
}