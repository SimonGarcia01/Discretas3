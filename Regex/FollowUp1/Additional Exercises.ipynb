{
 "cells": [
  {
   "cell_type": "markdown",
   "metadata": {
    "id": "ta6TPACqpDvV"
   },
   "source": [
    "# Regular Expressions in Python (Follow-up 1)\n",
    "<font size=\"3\">For this follow-up you must solve 2 exercises using the theoretical knowledge you have gathered in class and 3 more exercises using Python regular expressions. For the Python section you will have to also present a written summary, in english, of how was your trend of thought to solve the exercise (one paragraph). This part will be marked taken into account the regex, the explanation and the number of cases passed. Each of these exercises must be solved using regular expressions, any other approach, even if it works, won’t be accepted.</font>\n"
   ]
  },
  {
   "cell_type": "markdown",
   "metadata": {
    "id": "YKc2lA9GpDvY"
   },
   "source": [
    "1) [15 pts] Find the regular expression for the language over $\\Sigma = \\{0,1,2\\}$ of all strings that only have one occurrence of three consecutive ones."
   ]
  },
  {
   "cell_type": "markdown",
   "metadata": {},
   "source": [
    "$(\\{0,2\\}^*\\{1,11\\}? )^* \\cdot (111) \\cdot (\\{0,2\\}^*\\{1,11\\}?)^*$"
   ]
  },
  {
   "cell_type": "markdown",
   "metadata": {},
   "source": [
    "$ ((0|2|10|20|01|21|1|11)^*)111((0|2|10|20|01|21|1|11)^*) $"
   ]
  },
  {
   "cell_type": "markdown",
   "metadata": {
    "id": "zV5WyZWLpDvb"
   },
   "source": [
    "2. [15 pts] Find the regular expression for the language over $\\Sigma = \\{0,1,2,3\\}$ of all strings that have length divisible by three."
   ]
  },
  {
   "cell_type": "markdown",
   "metadata": {},
   "source": [
    "$ ({000,001,002,003,010,012,013, ...}) $"
   ]
  },
  {
   "cell_type": "markdown",
   "metadata": {
    "id": "vDzO21HYpDvc"
   },
   "source": [
    "$ ([0-3]{3})^* $"
   ]
  },
  {
   "cell_type": "markdown",
   "metadata": {},
   "source": []
  },
  {
   "cell_type": "markdown",
   "metadata": {
    "id": "FrJ4FF8epDvc"
   },
   "source": [
    "3) [25 pts] Write a Python function is_valid_username(username) that returns True if the username meets all of the following conditions (all captured with a regex):\n",
    "- Length between 8 and 16 characters\n",
    "- Starts with a letter (uppercase or lowercase)\n",
    "- Contains at least one underscore (_)\n",
    "- Contains at least one digit\n",
    "- Ends with the same letter it started with (case-sensitive)\n",
    "- Only includes letters, digits, and underscores (no other symbols)\n",
    "<br>\n",
    "<br>\n",
    "Hints:\n",
    "\n",
    "- Use lookaheads (?=...) to require certain patterns (e.g., digits, symbols).\n",
    "- Use groups() to capture and compare parts of the string.\n",
    "- Use backreferences \\1 to match the same text as a previous group.\n",
    "- Use {min,max} to enforce minimum and maximum length.\n"
   ]
  },
  {
   "cell_type": "code",
   "execution_count": 2,
   "metadata": {
    "executionInfo": {
     "elapsed": 7,
     "status": "ok",
     "timestamp": 1755007780810,
     "user": {
      "displayName": "Johan",
      "userId": "12326637251744617595"
     },
     "user_tz": 300
    },
    "id": "h5gfQ2EwpDvd"
   },
   "outputs": [],
   "source": [
    "test_cases = [\n",
    "    (\"User_123U\", True),\n",
    "    (\"User_1234\", False),\n",
    "    (\"a_user1a\", True),\n",
    "    (\"Start1234567_endS\", False),\n",
    "    (\"GoodName_3e\", False),\n",
    "    (\"Z_user_9Z\", True),\n",
    "    (\"A123456_7A\", True),\n",
    "    (\"a__1b\", False),\n",
    "    (\"_User_1_\", False),\n",
    "    (\"abc_def_1c\", False),\n",
    "]\n"
   ]
  },
  {
   "cell_type": "code",
   "execution_count": 12,
   "metadata": {},
   "outputs": [
    {
     "name": "stdout",
     "output_type": "stream",
     "text": [
      "User_123U --> True - Expected: True\n",
      "User_1234 --> False - Expected: False\n",
      "a_user1a --> True - Expected: True\n",
      "Start1234567_endS --> False - Expected: False\n",
      "GoodName_3e --> False - Expected: False\n",
      "Z_user_9Z --> True - Expected: True\n",
      "A123456_7A --> True - Expected: True\n",
      "a__1b --> False - Expected: False\n",
      "_User_1_ --> False - Expected: False\n",
      "abc_def_1c --> False - Expected: False\n"
     ]
    }
   ],
   "source": [
    "import re\n",
    "\n",
    "def is_valid_username(username):\n",
    "    objRegEx = re.compile(r'(?=.*_)(?=.*\\d)(^[a-zA-Z])[a-zA-Z0-9_]{6,14}\\1$')\n",
    "    return bool(objRegEx.search(username))\n",
    "\n",
    "for test_case in test_cases:\n",
    "        print(f\"{test_case[0]} --> {is_valid_username(test_case[0])} - Expected: {test_case[1]}\")\n"
   ]
  },
  {
   "cell_type": "code",
   "execution_count": 14,
   "metadata": {
    "colab": {
     "base_uri": "https://localhost:8080/"
    },
    "executionInfo": {
     "elapsed": 8,
     "status": "ok",
     "timestamp": 1755007924682,
     "user": {
      "displayName": "Johan",
      "userId": "12326637251744617595"
     },
     "user_tz": 300
    },
    "id": "00javNAui6BE",
    "outputId": "d2468f85-3793-4719-bd2e-ef2620290291"
   },
   "outputs": [
    {
     "name": "stdout",
     "output_type": "stream",
     "text": [
      "User_123U   True \n",
      "\n",
      "User_1234   False \n",
      "\n",
      "a_user1a   True \n",
      "\n",
      "Start1234567_endS   False \n",
      "\n",
      "GoodName_3e   False \n",
      "\n",
      "Z_user_9Z   True \n",
      "\n",
      "A123456_7A   True \n",
      "\n",
      "a__1b   False \n",
      "\n",
      "_User_1_   False \n",
      "\n",
      "abc_def_1c   False \n",
      "\n"
     ]
    }
   ],
   "source": [
    "import re\n",
    "\n",
    "pattern = re.compile(r'^(?=.{8,16}$)(?=.*_)(?=.*\\d)([a-zA-Z])[a-zA-Z0-9_]*\\1')\n",
    "\n",
    "def is_valid_username(username):\n",
    "    return bool(pattern.match(username))\n",
    "\n",
    "\n",
    "for names in test_cases:\n",
    "    print(names[0],\" \",is_valid_username(names[0]) , \"\\n\")"
   ]
  },
  {
   "cell_type": "markdown",
   "metadata": {
    "id": "dlqvMYdbpDvf"
   },
   "source": [
    "4) [20 pts] Write a Python function to find all triplets of words (3-word sequences) that appear at least twice in a given text (not necessarily consecutively).\n",
    "<br>\n",
    "<br>\n",
    "Hints:\n",
    "- Remember about the boundaries \\b\n",
    "- Use a backreference to check for repetition\n",
    "- Use the re.findall() or re.finditer() method.\n",
    "- Convert text to lowercase to avoid case mismatches.\n",
    "- Use Counter to count occurrences.\n"
   ]
  },
  {
   "cell_type": "code",
   "execution_count": 18,
   "metadata": {
    "executionInfo": {
     "elapsed": 5,
     "status": "ok",
     "timestamp": 1755008877059,
     "user": {
      "displayName": "Johan",
      "userId": "12326637251744617595"
     },
     "user_tz": 300
    },
    "id": "jSOTNNU4pDvg"
   },
   "outputs": [],
   "source": [
    "test_cases_2 = [\n",
    "    (\"the quick brown fox jumps over the quick brown fox\",\n",
    "     [\"the quick brown\", \"quick brown fox\"]),\n",
    "    (\"Hello world again. hello WORLD again.\",\n",
    "     [\"hello world again\"]),\n",
    "    (\"We went there together Then, we went there together again.\",\n",
    "     [\"we went there\", \"went there together\"]),\n",
    "    (\"one two three two three four one two three\",\n",
    "     [\"one two three\"]),\n",
    "    (\"every word is different in this sentence\",\n",
    "     []),\n",
    "    (\"go go go home then go go go home then again\",\n",
    "     [\"go go go\", \"go go home\", \"go home then\"]),\n",
    "    (\"the dog sleeps all day. the dog sleeps all night.\",\n",
    "     [\"the dog sleeps\", \"dog sleeps all\"]),\n",
    "    (\"A B C D E F G A B C D E F G\",\n",
    "     [\"a b c\", \"b c d\", \"c d e\", \"d e f\", \"e f g\"]),\n",
    "    (\"Rain falls HARD. rain   FALLS hard every day.\",\n",
    "     [\"rain falls hard\"]),\n",
    "    (\"up up and away up up and away\",\n",
    "     [\"up up and\", \"up and away\"]),\n",
    "]\n"
   ]
  },
  {
   "cell_type": "code",
   "execution_count": null,
   "metadata": {},
   "outputs": [],
   "source": [
    "objRegEx = re.compile(r'(\\b(\\w)+\\b \\b(\\w+)\\b \\b(w+)\\b){2,} \\b\\1\\b \\b\\2\\b \\b\\3\\b', re.IGNORECASE)"
   ]
  },
  {
   "cell_type": "code",
   "execution_count": 82,
   "metadata": {
    "colab": {
     "base_uri": "https://localhost:8080/"
    },
    "executionInfo": {
     "elapsed": 11,
     "status": "ok",
     "timestamp": 1755013730743,
     "user": {
      "displayName": "Johan",
      "userId": "12326637251744617595"
     },
     "user_tz": 300
    },
    "id": "zZDz7g-5oT9w",
    "outputId": "fe8759cd-c931-439a-c9bc-e221f821f30a"
   },
   "outputs": [
    {
     "name": "stdout",
     "output_type": "stream",
     "text": [
      "the quick brown fox jumps over the quick brown fox   [('the', 'quick', 'brown')]\n",
      "Hello world again. hello WORLD again.   []\n",
      "We went there together Then, we went there together again.   [('went', 'there', 'together')]\n",
      "one two three two three four one two three   [('one', 'two', 'three')]\n",
      "every word is different in this sentence   []\n",
      "go go go home then go go go home then again   [('go', 'go', 'go')]\n",
      "the dog sleeps all day. the dog sleeps all night.   [('the', 'dog', 'sleeps')]\n",
      "A B C D E F G A B C D E F G   [('A', 'B', 'C')]\n",
      "Rain falls HARD. rain   FALLS hard every day.   []\n",
      "up up and away up up and away   [('up', 'up', 'and')]\n"
     ]
    }
   ],
   "source": [
    "import re\n",
    "\n",
    "pattern = re.compile(r'\\b(\\w+)\\b \\b(\\w+)\\b \\b(\\w+)\\b =?.* \\b\\1\\b \\b\\2\\b \\b\\3\\b')\n",
    "\n",
    "for names in test_cases_2:\n",
    "    print(names[0],\" \",pattern.findall(names[0]))\n"
   ]
  },
  {
   "cell_type": "markdown",
   "metadata": {
    "id": "bAe8PDElpDvh"
   },
   "source": [
    "5) Validate a time string in the format HH:MM:MM:HH such that:\n",
    "\n",
    "- The first and last HH are the same.\n",
    "- The two MM values are also the same.\n",
    "- HH must be between 00 and 23.\n",
    "- MM must be between 00 and 59.\n",
    "<br>\n",
    "<br>\n",
    "Hints:\n",
    "- Use capturing groups.\n",
    "- Use backreferences.\n",
    "- Use anchors ^...$ to match the full string."
   ]
  },
  {
   "cell_type": "code",
   "execution_count": 13,
   "metadata": {
    "executionInfo": {
     "elapsed": 14,
     "status": "ok",
     "timestamp": 1755011624188,
     "user": {
      "displayName": "Johan",
      "userId": "12326637251744617595"
     },
     "user_tz": 300
    },
    "id": "aSRRLRT3pDvi"
   },
   "outputs": [],
   "source": [
    "test_cases_3 = [\n",
    "    (\"12:30:30:12\", True),\n",
    "    (\"00:00:00:00\", True),\n",
    "    (\"23:59:59:23\", True),\n",
    "    (\"01:01:01:01\", True),\n",
    "    (\"19:45:45:19\", True),\n",
    "    (\"12:30:31:12\", False),\n",
    "    (\"12:60:60:12\", False),\n",
    "    (\"24:00:00:24\", False),\n",
    "    (\"12:30:30:13\", False),\n",
    "    (\"09:59:59:08\", False),\n",
    "]"
   ]
  },
  {
   "cell_type": "code",
   "execution_count": 21,
   "metadata": {},
   "outputs": [
    {
     "name": "stdout",
     "output_type": "stream",
     "text": [
      "12:30:30:12 --> True - True\n",
      "00:00:00:00 --> True - True\n",
      "23:59:59:23 --> True - True\n",
      "01:01:01:01 --> True - True\n",
      "19:45:45:19 --> True - True\n",
      "12:30:31:12 --> False - False\n",
      "12:60:60:12 --> False - False\n",
      "24:00:00:24 --> False - False\n",
      "12:30:30:13 --> False - False\n",
      "09:59:59:08 --> False - False\n"
     ]
    }
   ],
   "source": [
    "def validate_time(time):\n",
    "    objRegEx = re.compile(r'^([0-1]\\d|2[0-3]):([0-5]\\d):\\2:\\1$')\n",
    "    return bool(objRegEx.search(time))\n",
    "\n",
    "for test_case in test_cases_3:\n",
    "    print(f'{test_case[0]} --> {validate_time(test_case[0])} - {test_case[1]}')"
   ]
  },
  {
   "cell_type": "code",
   "execution_count": 61,
   "metadata": {
    "colab": {
     "base_uri": "https://localhost:8080/"
    },
    "executionInfo": {
     "elapsed": 45,
     "status": "ok",
     "timestamp": 1755011648968,
     "user": {
      "displayName": "Johan",
      "userId": "12326637251744617595"
     },
     "user_tz": 300
    },
    "id": "1vQlGgmKpDvj",
    "outputId": "14736184-677f-477c-8a8c-60a679aa82bb"
   },
   "outputs": [
    {
     "name": "stdout",
     "output_type": "stream",
     "text": [
      "12:30:30:12   True\n",
      "00:00:00:00   True\n",
      "23:59:59:23   True\n",
      "01:01:01:01   True\n",
      "19:45:45:19   True\n",
      "12:30:31:12   False\n",
      "12:60:60:12   False\n",
      "24:00:00:24   False\n",
      "12:30:30:13   False\n",
      "09:59:59:08   False\n"
     ]
    }
   ],
   "source": [
    "import re\n",
    "\n",
    "hh= r'(0[0-9]|1[0-9]|2[0-3])'\n",
    "mm= r'(0[0-9]|1[0-9]|2[0-9]|3[0-9]|4[0-9]|5[0-9])'\n",
    "\n",
    "\n",
    "pattern = re.compile(r'^'+hh+r'\\:' +mm+r'\\:'+r'\\2\\:\\1$')\n",
    "\n",
    "for names in test_cases_3:\n",
    "    print(names[0],\" \",bool(pattern.match(names[0])))\n",
    "\n"
   ]
  }
 ],
 "metadata": {
  "colab": {
   "provenance": []
  },
  "kernelspec": {
   "display_name": "Python 3",
   "language": "python",
   "name": "python3"
  },
  "language_info": {
   "codemirror_mode": {
    "name": "ipython",
    "version": 3
   },
   "file_extension": ".py",
   "mimetype": "text/x-python",
   "name": "python",
   "nbconvert_exporter": "python",
   "pygments_lexer": "ipython3",
   "version": "3.13.5"
  },
  "orig_nbformat": 4
 },
 "nbformat": 4,
 "nbformat_minor": 0
}
