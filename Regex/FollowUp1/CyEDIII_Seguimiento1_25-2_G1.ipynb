{
 "cells": [
  {
   "cell_type": "markdown",
   "metadata": {},
   "source": [
    "# Regular Expressions in Python (Follow-up 1)\n",
    "<font size=\"3\">For this follow-up you must solve 2 exercises using the theoretical knowledge you have gathered in class and 3 more exercises using Python regular expressions. For the Python section you will have to also present a written summary, in english, of how was your trend of thought to solve the exercise (one paragraph). This part will be marked taken into account the regex, the explanation and the number of cases passed. Each of these exercises must be solved using regular expressions, any other approach, even if it works, won’t be accepted.</font>\n",
    " "
   ]
  },
  {
   "cell_type": "markdown",
   "metadata": {},
   "source": [
    "1) [15 pts] Find the regular expression for the language over $\\Sigma = \\{a,b,c\\}$ of all strings that only have one occurrence of three consecutive a."
   ]
  },
  {
   "cell_type": "markdown",
   "metadata": {},
   "source": [
    "$ (({a} \\cup {aa}) \\cdot \\{b,c\\}^+)^* \\cdot \\{aaa\\} \\cdot (\\{b,c\\}^+ \\cdot ({a} \\cup {aa}))^* $"
   ]
  },
  {
   "cell_type": "markdown",
   "metadata": {},
   "source": [
    "$ \\{b,c\\}^* \\cdot \\{aaa\\} \\cdot \\{b,c\\}^* $"
   ]
  },
  {
   "cell_type": "markdown",
   "metadata": {},
   "source": [
    "2. [15 pts] Find the regular expression for the language over $\\Sigma = \\{0,1,2\\}$ of all strings that have length divisible by two."
   ]
  },
  {
   "cell_type": "markdown",
   "metadata": {},
   "source": [
    "$ ((\\{0\\} \\cup \\{1\\} \\cup \\{2\\}) \\cdot (\\{0\\} \\cup \\{1\\} \\cup \\{2\\}))^* $"
   ]
  },
  {
   "cell_type": "markdown",
   "metadata": {},
   "source": [
    "3) [25 pts] Write a Python function is_valid_username(username) that returns True if the username meets all of the following conditions (all captured with a regex):\n",
    "- Length between 8 and 16 characters\n",
    "- Starts with a letter (uppercase or lowercase)\n",
    "- Contains at least one underscore (_)\n",
    "- Contains at least one digit\n",
    "- Ends with the same letter it started with (case-sensitive)\n",
    "- Only includes letters, digits, and underscores (no other symbols)\n",
    "<br>\n",
    "<br>\n",
    "Hints: \n",
    "\n",
    "- Use lookaheads (?=...) to require certain patterns (e.g., digits, symbols).\n",
    "- Use groups() to capture and compare parts of the string.\n",
    "- Use backreferences \\1 to match the same text as a previous group.\n",
    "- Use {min,max} to enforce minimum and maximum length.\n"
   ]
  },
  {
   "cell_type": "code",
   "execution_count": 1,
   "metadata": {},
   "outputs": [],
   "source": [
    "test_cases = [\n",
    "    (\"User_123U\", True),\n",
    "    (\"User_1234\", False),\n",
    "    (\"a_user1a\", True),\n",
    "    (\"Start1234567_endS\", False),\n",
    "    (\"GoodName_3e\", False),\n",
    "    (\"Z_user_9Z\", True),\n",
    "    (\"A123456_7A\", True),\n",
    "    (\"a__1b\", False),\n",
    "    (\"_User_1_\", False),\n",
    "    (\"abc_def_1c\", False),\n",
    "]\n"
   ]
  },
  {
   "cell_type": "code",
   "execution_count": 2,
   "metadata": {},
   "outputs": [
    {
     "name": "stdout",
     "output_type": "stream",
     "text": [
      "User_123U --> Real: True - Expected: True\n",
      "User_1234 --> Real: False - Expected: False\n",
      "a_user1a --> Real: True - Expected: True\n",
      "Start1234567_endS --> Real: False - Expected: False\n",
      "GoodName_3e --> Real: False - Expected: False\n",
      "Z_user_9Z --> Real: True - Expected: True\n",
      "A123456_7A --> Real: True - Expected: True\n",
      "a__1b --> Real: False - Expected: False\n",
      "_User_1_ --> Real: False - Expected: False\n",
      "abc_def_1c --> Real: False - Expected: False\n"
     ]
    }
   ],
   "source": [
    "import re\n",
    "\n",
    "def is_valid_username(username):\n",
    "    objRegEx = re.compile(r'(?=.*_)(?=.*\\d)(^[a-zA-Z])[a-zA-Z0-9_]{6,14}\\1$')\n",
    "    return bool(objRegEx.search(username))\n",
    "\n",
    "for test_case in test_cases:\n",
    "        print(f\"{test_case[0]} --> Real: {is_valid_username(test_case[0])} - Expected: {test_case[1]}\")"
   ]
  },
  {
   "cell_type": "markdown",
   "metadata": {},
   "source": [
    "### Explenation 3:\n",
    "First I started writing out the parts that were easy like it must start with an uppercase or lowercase letter --> ^[a-zA-Z]. Then it said it must be used at the end so then I group it and call it with \\1 --> (^[a-zA-Z]) whatever \\1$. Then I need to limit so that the right number of digits, letters and _ appear between those two and make sure there are between 6 and 14 since the first and the last take up 2 characters --> [a-zA-Z0-9_]{6,14}. Then I need to add those \"contains\" requirements like the _ the digit, so I used look aheads so it made sure there was at least one --> (?=.*_)(?=.*\\d)."
   ]
  },
  {
   "cell_type": "markdown",
   "metadata": {},
   "source": [
    "4) [20 pts] Write a Python function to find all triplets of words (3-word sequences) that appear at least twice in a given text (not necessarily consecutively).\n",
    "<br>\n",
    "<br>\n",
    "Hints: \n",
    "- Remember about the boundaries \\b\n",
    "- Use a backreference to check for repetition\n",
    "- Use the re.findall() or re.finditer() method.\n",
    "- Convert text to lowercase to avoid case mismatches.\n",
    "- Use Counter to count occurrences.\n"
   ]
  },
  {
   "cell_type": "code",
   "execution_count": 5,
   "metadata": {},
   "outputs": [],
   "source": [
    "test_cases = [\n",
    "    (\"the quick brown fox jumps over the quick brown fox\",\n",
    "     [\"the quick brown\", \"quick brown fox\"]),\n",
    "    (\"Hello world again. hello WORLD again.\",\n",
    "     [\"hello world again\"]),\n",
    "    (\"We went there together Then, we went there together again.\",\n",
    "     [\"we went there\", \"went there together\"]),\n",
    "    (\"one two three two three four one two three\",\n",
    "     [\"one two three\"]),\n",
    "    (\"every word is different in this sentence\",\n",
    "     []),\n",
    "    (\"go go go home then go go go home then again\",\n",
    "     [\"go go go\", \"go go home\", \"go home then\"]),\n",
    "    (\"the dog sleeps all day. the dog sleeps all night.\",\n",
    "     [\"the dog sleeps\", \"dog sleeps all\"]),\n",
    "    (\"A B C D E F G A B C D E F G\", \n",
    "     [\"a b c\", \"b c d\", \"c d e\", \"d e f\", \"e f g\"]),\n",
    "    (\"Rain falls HARD. rain   FALLS hard every day.\",\n",
    "     [\"rain falls hard\"]),\n",
    "    (\"up up and away up up and away\",\n",
    "     [\"up up and\", \"up and away\"]),\n",
    "]\n"
   ]
  },
  {
   "cell_type": "code",
   "execution_count": 17,
   "metadata": {},
   "outputs": [
    {
     "name": "stdout",
     "output_type": "stream",
     "text": [
      "('quick', 'brown', 'fox')\n",
      "('went', 'there', 'together')\n",
      "('go', 'go', 'home')\n",
      "('dog', 'sleeps', 'all')\n",
      "('B', 'C', 'D')\n",
      "('up', 'and', 'away')\n"
     ]
    }
   ],
   "source": [
    "objRegEx = re.compile(r'\\b(\\w+)\\b \\b(\\w+)\\b \\b(\\w+)\\b .* \\b\\1\\b \\b\\2\\b \\b\\3\\b')\n",
    "\n",
    "for test_case in test_cases:\n",
    "    for x in objRegEx.findall(test_case[0], re.IGNORECASE):\n",
    "        print(x)"
   ]
  },
  {
   "cell_type": "markdown",
   "metadata": {},
   "source": []
  },
  {
   "cell_type": "markdown",
   "metadata": {},
   "source": [
    "5) Validate a time string in the format HH:MM:MM:HH such that:\n",
    "\n",
    "- The first and last HH are the same.\n",
    "- The two MM values are also the same.\n",
    "- HH must be between 00 and 23.\n",
    "- MM must be between 00 and 59.\n",
    "<br>\n",
    "<br>\n",
    "Hints:\n",
    "- Use capturing groups.\n",
    "- Use backreferences.\n",
    "- Use anchors ^...$ to match the full string."
   ]
  },
  {
   "cell_type": "code",
   "execution_count": 3,
   "metadata": {},
   "outputs": [],
   "source": [
    "test_cases = [\n",
    "    (\"12:30:30:12\", True),   \n",
    "    (\"00:00:00:00\", True),   \n",
    "    (\"23:59:59:23\", True),   \n",
    "    (\"01:01:01:01\", True),   \n",
    "    (\"19:45:45:19\", True),   \n",
    "    (\"12:30:31:12\", False),  \n",
    "    (\"12:60:60:12\", False),  \n",
    "    (\"24:00:00:24\", False),  \n",
    "    (\"12:30:30:13\", False),  \n",
    "    (\"09:59:59:08\", False),  \n",
    "]"
   ]
  },
  {
   "cell_type": "code",
   "execution_count": 4,
   "metadata": {},
   "outputs": [
    {
     "name": "stdout",
     "output_type": "stream",
     "text": [
      "12:30:30:12 --> Real: True - Expected: True\n",
      "00:00:00:00 --> Real: True - Expected: True\n",
      "23:59:59:23 --> Real: True - Expected: True\n",
      "01:01:01:01 --> Real: True - Expected: True\n",
      "19:45:45:19 --> Real: True - Expected: True\n",
      "12:30:31:12 --> Real: False - Expected: False\n",
      "12:60:60:12 --> Real: False - Expected: False\n",
      "24:00:00:24 --> Real: False - Expected: False\n",
      "12:30:30:13 --> Real: False - Expected: False\n",
      "09:59:59:08 --> Real: False - Expected: False\n"
     ]
    }
   ],
   "source": [
    "def validate_time(time):\n",
    "    objRegEx = re.compile(r'^([0-1]\\d|2[0-3]):([0-5]\\d):\\2:\\1$')\n",
    "    return bool(objRegEx.search(time))\n",
    "\n",
    "for test_case in test_cases:\n",
    "    print(f'{test_case[0]} --> Real: {validate_time(test_case[0])} - Expected: {test_case[1]}')"
   ]
  },
  {
   "cell_type": "markdown",
   "metadata": {},
   "source": [
    "### Explenation 5:\n",
    "First I decided to make the possibilities of values each HH and MM could take. For HH since it must b between 00 and 23 I first made 3 groups 0[0-9], 1[0-9] and 2[0-3] but then I saw that those starting with 0 and 1 use the same ranges then I could combine them with the |. So then it could be 0 or 1 and then any number from 0-9 (\\d) --> [0-1]\\d. Then I just combined it with the starting number with 2's, so its [0-1]\\d|2[0-3] since it can only be one of those 2 groups. Then I grouped it with () so it could be called at the end, and since that is the first group captured, then I would call it using \\1 --> ([0-1]\\d|2[0-3]):MM:MM:\\1. Then I would need to do exactly the same with MM but this one can be summarized even further since 1,2,3,4,5 could be accompanied by any digit \\d and the five numbers can bet written in a range --> [0-5]\\d. Then I group it to get the second reference by using () and the \\2. Every part is separated by colons."
   ]
  }
 ],
 "metadata": {
  "kernelspec": {
   "display_name": "Python 3",
   "language": "python",
   "name": "python3"
  },
  "language_info": {
   "codemirror_mode": {
    "name": "ipython",
    "version": 3
   },
   "file_extension": ".py",
   "mimetype": "text/x-python",
   "name": "python",
   "nbconvert_exporter": "python",
   "pygments_lexer": "ipython3",
   "version": "3.13.5"
  },
  "orig_nbformat": 4
 },
 "nbformat": 4,
 "nbformat_minor": 2
}
