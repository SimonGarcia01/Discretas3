{
  "cells": [
    {
      "cell_type": "markdown",
      "metadata": {
        "id": "HqQo-alMNnTw"
      },
      "source": [
        "# Regular Expressions in Python (Follow-up 1)\n",
        "<font size=\"3\">For this follow-up you must solve these 5 exercises using python. You will be marked according to the number of cases you pass. Each of the exercises must be solved using regular expressions, any other approach, even if it works, won’t be accepted.</font>\n"
      ]
    },
    {
      "cell_type": "markdown",
      "metadata": {
        "id": "scdx_URtNnTz"
      },
      "source": [
        "1) Validate a strong password, taking into account the following elements:\n",
        "- Be at least 8 characters long\n",
        "- Contains at least one upper-case letter\n",
        "- Contains at least one lower-case letter\n",
        "- Contains at least one digit\n",
        "- Contains at least one special symbol\n"
      ]
    },
    {
      "cell_type": "code",
      "execution_count": null,
      "metadata": {
        "id": "EEJlZxEWNnT0",
        "outputId": "184673c5-a729-4c0d-c3b5-9568785aaf28"
      },
      "outputs": [
        {
          "name": "stdout",
          "output_type": "stream",
          "text": [
            "Weak123 Invalid\n",
            "StrongP@ss1 Valid\n",
            "NOLOWERCASE1! Invalid\n",
            "nouppercase1! Invalid\n",
            "NoDigit!@# Invalid\n",
            "NoSpecial1234 Invalid\n",
            "Valid!123 Valid\n",
            "8Chars@Ab Valid\n",
            "aaaaaaaA1! Valid\n",
            "OnlyLetters Invalid\n"
          ]
        }
      ],
      "source": [
        "passwords = [\n",
        "    \"Weak123\",        # Invalid Too short, no special character\n",
        "    \"StrongP@ss1\",    # Valid\n",
        "    \"NOLOWERCASE1!\",  # Invalid No lowercase letter\n",
        "    \"nouppercase1!\",  # Invalid No uppercase letter\n",
        "    \"NoDigit!@#\",     # Invalid No digit\n",
        "    \"NoSpecial1234\",  # Invalid No special character\n",
        "    \"Valid!123\",      # Valid\n",
        "    \"8Chars@Ab\",      # Valid\n",
        "    \"aaaaaaaA1!\",     # Valid\n",
        "    \"OnlyLetters\"     # Invalid No digit, no special character\n",
        "]\n"
      ]
    },
    {
      "cell_type": "markdown",
      "metadata": {
        "id": "L4Fc2JmuNnT1"
      },
      "source": [
        "2) Validate dates in dd/mm/yyyy format ensuring:\n",
        "- The day (1-31) matches the month\n",
        "- The month (01-12) is valid\n",
        "- For february take into account leap years (a leap year is divisible by 4 (e.g., 2004, 2008), with one exception if divisible by 100, it must also be divisible by 400 (e.g., 2000 is a leap year, but 1900 is not)).\n"
      ]
    },
    {
      "cell_type": "code",
      "execution_count": null,
      "metadata": {
        "id": "JVOvX7NKNnT2",
        "outputId": "b2850420-f94d-454a-82bd-b67ba35b55cc"
      },
      "outputs": [
        {
          "name": "stdout",
          "output_type": "stream",
          "text": [
            "29/02/2024 Valid\n",
            "30/02/2023 Invalid\n",
            "31/04/2023 Invalid\n",
            "15/06/2020 Valid\n",
            "00/10/2023 Invalid\n",
            "32/01/2023 Invalid\n",
            "01/13/2023 Invalid\n",
            "25/12/2025 Valid\n",
            "10/11/2000 Valid\n",
            "31/06/2019 Invalid\n"
          ]
        }
      ],
      "source": [
        "dates = [\n",
        "    \"29/02/2024\",  # Valid leap year date\n",
        "    \"30/02/2023\",  # Invalid, February has max 29 days (leap years)\n",
        "    \"31/04/2023\",  # Invalid, April has 30 days\n",
        "    \"15/06/2020\",  # Valid\n",
        "    \"00/10/2023\",  # Invalid day (00)\n",
        "    \"32/01/2023\",  # Invalid day (out of range)\n",
        "    \"01/13/2023\",  # Invalid month (13)\n",
        "    \"25/12/2025\",  # Valid Christmas date\n",
        "    \"10/11/2000\",  # Valid\n",
        "    \"31/06/2019\"   # Invalid June has only 30 days\n",
        "]"
      ]
    },
    {
      "cell_type": "markdown",
      "metadata": {
        "id": "jK2wQA-hNnT2"
      },
      "source": [
        "3) Find and return all pairs of words that appear twice (or more), not necessarily consecutively."
      ]
    },
    {
      "cell_type": "code",
      "execution_count": null,
      "metadata": {
        "id": "FOizkQTgNnT3",
        "outputId": "7606a0c7-d96f-4ab8-ed08-b51d60ca3853"
      },
      "outputs": [
        {
          "name": "stdout",
          "output_type": "stream",
          "text": [
            "hello world hello world Correct\n",
            "this is a test, test me, this is not funny Correct\n",
            "repeat repeat again, I can't hear, repeat again Correct\n",
            "one two three four one one Incorrect\n",
            "black dog cat black dog mouse dog cat Correct\n",
            "same same same same words Correct\n",
            "python regex python regex python regex Correct\n",
            "first last first Incorrect\n",
            "different words here Incorrect\n",
            "apple banana apple Incorrect\n"
          ]
        }
      ],
      "source": [
        "texts = [\n",
        "    \"hello world hello world\",                              # Correct \"hello world\" appears twice\n",
        "    \"this is a test, test me, this is not funny\",           # Correct \"this is\" appears twice\n",
        "    \"repeat repeat again, I can't hear, repeat again\",      # Correct \"repeat again\" appears twice\n",
        "    \"one two three four one one\",                           # Incorrect No repeated pairs of words\n",
        "    \"black dog cat black dog mouse dog cat\",                # Correct \"black dog\" appears twice\n",
        "    \"same same same same words\",                            # Correct \"same same\" appears twice\n",
        "    \"python regex python regex python regex\",               # Correct \"python regex\" appears more than twice\n",
        "    \"first last first\",                                     # Incorrect No repeated pairs of words\n",
        "    \"different words here\",                                 # Incorrect No repeated pairs of words\n",
        "    \"apple banana apple\"                                    # Incorrect No repeated pairs of words\n",
        "]\n"
      ]
    },
    {
      "cell_type": "markdown",
      "metadata": {
        "id": "9pIAsM1uNnT3"
      },
      "source": [
        "4) Extract all valid email addresses, ensuring:\n",
        "- They start with letters, numbers, dots, or underscores.\n",
        "- They contain a valid domain.\n"
      ]
    },
    {
      "cell_type": "code",
      "execution_count": null,
      "metadata": {
        "id": "s0nMHiIGNnT4",
        "outputId": "19ac78bb-9dc1-4ac9-9e46-f8b4841babab"
      },
      "outputs": [
        {
          "name": "stdout",
          "output_type": "stream",
          "text": [
            "a.email@example.com Valid\n",
            "lovelyson@@example.com Invalid\n",
            ".something.dot@example.com Valid\n",
            "user@domain_something Invalid\n",
            "correct_123@valid.com Valid\n",
            "i.am.a.studentg@.com Invalid\n",
            "123user@example.org Valid\n",
            "my_name_is@site.net Valid\n",
            "hello@domain..com Invalid\n",
            "me@sub.domain.com Valid\n"
          ]
        }
      ],
      "source": [
        "emails = [\n",
        "    \"a.email@example.com\",          # Valid\n",
        "    \"lovelyson@@example.com\",       # Invalid (double @)\n",
        "    \".something.dot@example.com\",   # Valid\n",
        "    \"user@domain_something\",        # Invalid (missing .com/.net)\n",
        "    \"correct_123@valid.com\",        # Valid\n",
        "    \"i.am.a.studentg@.com\",         # Invalid (missing domain)\n",
        "    \"123user@example.org\",          # Valid\n",
        "    \"my_name_is@site.net\",          # Valid\n",
        "    \"hello@domain..com\",            # Invalid (double dots in domain)\n",
        "    \"me@sub.domain.com\"             # Valid\n",
        "]\n"
      ]
    },
    {
      "cell_type": "markdown",
      "metadata": {
        "id": "27fQFr6tNnT5"
      },
      "source": [
        "5) Ensure an IP address follows X.Y.X.Y format, where first and third octets are the same, and second and fourth are the same. An octet goes from 0-255."
      ]
    },
    {
      "cell_type": "code",
      "execution_count": null,
      "metadata": {
        "id": "yfh5VaILNnT5",
        "outputId": "8749bf87-e364-4ead-e5ba-fc24083cd6b3"
      },
      "outputs": [
        {
          "name": "stdout",
          "output_type": "stream",
          "text": [
            "192.168.192.168 Valid\n",
            "10.10.10.10 Valid\n",
            "172.16.172.16 Valid\n",
            "8.8.8.8 Valid\n",
            "1.2.1.2 Valid\n",
            "192.168.1.1 Invalid\n",
            "10.0.11.0 Invalid\n",
            "255.255.250.0 Invalid\n",
            "300.10.300.10 Invalid\n",
            "172.16.32.16 Invalid\n"
          ]
        }
      ],
      "source": [
        "ips = [\n",
        "    \"192.168.192.168\",  # Valid: First and third octet match, second and fourth match\n",
        "    \"10.10.10.10\",      # Valid: All octets match (10.10.10.10)\n",
        "    \"172.16.172.16\",    # Valid: First and third match, second and fourth match\n",
        "    \"8.8.8.8\",          # Valid: All octets match (Google DNS)\n",
        "    \"1.2.1.2\",          # Valid: First and third match, second and fourth match\n",
        "    \"192.168.1.1\",      # Invalid: Third octet (1) ≠ first (192)\n",
        "    \"10.0.11.0\",        # Invalid: Third octet (11) ≠ first (10)\n",
        "    \"255.255.250.0\",    # Invalid: Third octet (250) ≠ first (255)\n",
        "    \"300.10.300.10\",    # Invalid: 300 is out of the valid IP range (0-255)\n",
        "    \"172.16.32.16\"      # Invalid: Third octet (32) ≠ first (172)\n",
        "]"
      ]
    }
  ],
  "metadata": {
    "kernelspec": {
      "display_name": "base",
      "language": "python",
      "name": "python3"
    },
    "language_info": {
      "codemirror_mode": {
        "name": "ipython",
        "version": 3
      },
      "file_extension": ".py",
      "mimetype": "text/x-python",
      "name": "python",
      "nbconvert_exporter": "python",
      "pygments_lexer": "ipython3",
      "version": "3.9.7"
    },
    "orig_nbformat": 4,
    "colab": {
      "provenance": []
    }
  },
  "nbformat": 4,
  "nbformat_minor": 0
}