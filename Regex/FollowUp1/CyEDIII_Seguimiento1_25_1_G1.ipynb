{
  "cells": [
    {
      "cell_type": "markdown",
      "metadata": {
        "id": "HqQo-alMNnTw"
      },
      "source": [
        "# Regular Expressions in Python (Follow-up 1)\n",
        "<font size=\"3\">For this follow-up you must solve these 5 exercises using python. You will be marked according to the number of cases you pass. Each of the exercises must be solved using regular expressions, any other approach, even if it works, won’t be accepted.</font>\n"
      ]
    },
    {
      "cell_type": "markdown",
      "metadata": {
        "id": "scdx_URtNnTz"
      },
      "source": [
        "1) Validate a strong password, taking into account the following elements:\n",
        "- Be at least 8 characters long\n",
        "- Contains at least one upper-case letter\n",
        "- Contains at least one lower-case letter\n",
        "- Contains at least one digit\n",
        "- Contains at least one special symbol\n"
      ]
    },
    {
      "cell_type": "code",
      "execution_count": 4,
      "metadata": {
        "id": "EEJlZxEWNnT0",
        "outputId": "184673c5-a729-4c0d-c3b5-9568785aaf28"
      },
      "outputs": [
        {
          "name": "stdout",
          "output_type": "stream",
          "text": [
            "Weak123 Invalid\n",
            "StrongP@ss1 Valid\n",
            "NOLOWERCASE1! Invalid\n",
            "nouppercase1! Invalid\n",
            "NoDigit!@# Invalid\n",
            "NoSpecial1234 Invalid\n",
            "Valid!123 Valid\n",
            "8Chars@Ab Valid\n",
            "aaaaaaaA1! Valid\n",
            "OnlyLetters Invalid\n"
          ]
        }
      ],
      "source": [
        "import re\n",
        "\n",
        "passwords = [\n",
        "    \"Weak123\",        # Invalid Too short, no special character\n",
        "    \"StrongP@ss1\",    # Valid\n",
        "    \"NOLOWERCASE1!\",  # Invalid No lowercase letter\n",
        "    \"nouppercase1!\",  # Invalid No uppercase letter\n",
        "    \"NoDigit!@#\",     # Invalid No digit\n",
        "    \"NoSpecial1234\",  # Invalid No special character\n",
        "    \"Valid!123\",      # Valid\n",
        "    \"8Chars@Ab\",      # Valid\n",
        "    \"aaaaaaaA1!\",     # Valid\n",
        "    \"OnlyLetters\"     # Invalid No digit, no special character\n",
        "]\n",
        "\n",
        "objRegEx = re.compile(r'(?=.*[a-z])(?=.*[A-Z])(?=.*\\d)(?=.*[!@*#%])[\\S]{8,}')\n",
        "\n",
        "for password in passwords:\n",
        "    if(objRegEx.search(password)):\n",
        "        print(f\"{password} Valid\")\n",
        "    else:\n",
        "        print(f\"{password} Invalid\")\n"
      ]
    },
    {
      "cell_type": "markdown",
      "metadata": {},
      "source": [
        "Weak123 Invalid\n",
        "StrongP@ss1 Valid\n",
        "NOLOWERCASE1! Invalid\n",
        "nouppercase1! Invalid\n",
        "NoDigit!@# Invalid\n",
        "NoSpecial1234 Invalid\n",
        "Valid!123 Valid\n",
        "8Chars@Ab Valid\n",
        "aaaaaaaA1! Valid\n",
        "OnlyLetters Invalid"
      ]
    },
    {
      "cell_type": "markdown",
      "metadata": {
        "id": "L4Fc2JmuNnT1"
      },
      "source": [
        "2) Validate dates in dd/mm/yyyy format ensuring:\n",
        "- The day (1-31) matches the month\n",
        "- The month (01-12) is valid\n",
        "- For february take into account leap years (a leap year is divisible by 4 (e.g., 2004, 2008), with one exception if divisible by 100, it must also be divisible by 400 (e.g., 2000 is a leap year, but 1900 is not)).\n"
      ]
    },
    {
      "cell_type": "code",
      "execution_count": null,
      "metadata": {
        "id": "JVOvX7NKNnT2",
        "outputId": "b2850420-f94d-454a-82bd-b67ba35b55cc"
      },
      "outputs": [
        {
          "name": "stdout",
          "output_type": "stream",
          "text": [
            "29/02/2024 Valid\n",
            "30/02/2023 Invalid\n",
            "31/04/2023 Invalid\n",
            "15/06/2020 Valid\n",
            "00/10/2023 Invalid\n",
            "32/01/2023 Invalid\n",
            "01/13/2023 Invalid\n",
            "25/12/2025 Valid\n",
            "10/11/2000 Valid\n",
            "31/06/2019 Invalid\n"
          ]
        }
      ],
      "source": [
        "dates = [\n",
        "    \"29/02/2024\",  # Valid leap year date\n",
        "    \"30/02/2023\",  # Invalid, February has max 29 days (leap years)\n",
        "    \"31/04/2023\",  # Invalid, April has 30 days\n",
        "    \"15/06/2020\",  # Valid\n",
        "    \"00/10/2023\",  # Invalid day (00)\n",
        "    \"32/01/2023\",  # Invalid day (out of range)\n",
        "    \"01/13/2023\",  # Invalid month (13)\n",
        "    \"25/12/2025\",  # Valid Christmas date\n",
        "    \"10/11/2000\",  # Valid\n",
        "    \"31/06/2019\"   # Invalid June has only 30 days\n",
        "]"
      ]
    },
    {
      "cell_type": "markdown",
      "metadata": {
        "id": "jK2wQA-hNnT2"
      },
      "source": [
        "3) Find and return all pairs of words that appear twice (or more), not necessarily consecutively."
      ]
    },
    {
      "cell_type": "code",
      "execution_count": 10,
      "metadata": {
        "id": "FOizkQTgNnT3",
        "outputId": "7606a0c7-d96f-4ab8-ed08-b51d60ca3853"
      },
      "outputs": [
        {
          "name": "stdout",
          "output_type": "stream",
          "text": [
            "hello world Correct\n",
            "this is Correct\n",
            "repeat again Correct\n",
            "one two three four one one Incorrect\n",
            "black dog Correct\n",
            "same same Correct\n",
            "python regex Correct\n",
            "first last first Incorrect\n",
            "different words here Incorrect\n",
            "apple banana apple Incorrect\n"
          ]
        }
      ],
      "source": [
        "texts = [\n",
        "    \"hello world hello world\",                              # Correct \"hello world\" appears twice\n",
        "    \"this is a test, test me, this is not funny\",           # Correct \"this is\" appears twice\n",
        "    \"repeat repeat again, I can't hear, repeat again\",      # Correct \"repeat again\" appears twice\n",
        "    \"one two three four one one\",                           # Incorrect No repeated pairs of words\n",
        "    \"black dog cat black dog mouse dog cat\",                # Correct \"black dog\" appears twice\n",
        "    \"same same same same words\",                            # Correct \"same same\" appears twice\n",
        "    \"python regex python regex python regex\",               # Correct \"python regex\" appears more than twice\n",
        "    \"first last first\",                                     # Incorrect No repeated pairs of words\n",
        "    \"different words here\",                                 # Incorrect No repeated pairs of words\n",
        "    \"apple banana apple\"                                    # Incorrect No repeated pairs of words\n",
        "]\n",
        "\n",
        "pattern = re.compile(r'\\b(\\w+\\s+\\w+)\\b(?:.*\\b\\1\\b)+', re.IGNORECASE)\n",
        "\n",
        "for text in texts:\n",
        "    match = pattern.search(text)\n",
        "    if match:\n",
        "        print(f'{match.group(1)} Correct')\n",
        "    else:\n",
        "        print(f'{text} Incorrect')\n"
      ]
    },
    {
      "cell_type": "markdown",
      "metadata": {},
      "source": [
        "hello world hello world Correct\n",
        "this is a test, test me, this is not funny Correct\n",
        "repeat repeat again, I can't hear, repeat again Correct\n",
        "one two three four one one Incorrect\n",
        "black dog cat black dog mouse dog cat Correct\n",
        "same same same same words Correct\n",
        "python regex python regex python regex Correct\n",
        "first last first Incorrect\n",
        "different words here Incorrect\n",
        "apple banana apple Incorrect"
      ]
    },
    {
      "cell_type": "markdown",
      "metadata": {
        "id": "9pIAsM1uNnT3"
      },
      "source": [
        "4) Extract all valid email addresses, ensuring:\n",
        "- They start with letters, numbers, dots, or underscores.\n",
        "- They contain a valid domain.\n"
      ]
    },
    {
      "cell_type": "code",
      "execution_count": null,
      "metadata": {
        "id": "s0nMHiIGNnT4",
        "outputId": "19ac78bb-9dc1-4ac9-9e46-f8b4841babab"
      },
      "outputs": [
        {
          "ename": "PatternError",
          "evalue": "unterminated character set at position 2",
          "output_type": "error",
          "traceback": [
            "\u001b[31m---------------------------------------------------------------------------\u001b[39m",
            "\u001b[31mPatternError\u001b[39m                              Traceback (most recent call last)",
            "\u001b[36mCell\u001b[39m\u001b[36m \u001b[39m\u001b[32mIn[11]\u001b[39m\u001b[32m, line 14\u001b[39m\n\u001b[32m      1\u001b[39m emails = [\n\u001b[32m      2\u001b[39m     \u001b[33m\"\u001b[39m\u001b[33ma.email@example.com\u001b[39m\u001b[33m\"\u001b[39m,          \u001b[38;5;66;03m# Valid\u001b[39;00m\n\u001b[32m      3\u001b[39m     \u001b[33m\"\u001b[39m\u001b[33mlovelyson@@example.com\u001b[39m\u001b[33m\"\u001b[39m,       \u001b[38;5;66;03m# Invalid (double @)\u001b[39;00m\n\u001b[32m   (...)\u001b[39m\u001b[32m     11\u001b[39m     \u001b[33m\"\u001b[39m\u001b[33mme@sub.domain.com\u001b[39m\u001b[33m\"\u001b[39m             \u001b[38;5;66;03m# Valid\u001b[39;00m\n\u001b[32m     12\u001b[39m ]\n\u001b[32m---> \u001b[39m\u001b[32m14\u001b[39m objRegEx = \u001b[43mre\u001b[49m\u001b[43m.\u001b[49m\u001b[43mcompile\u001b[49m\u001b[43m(\u001b[49m\u001b[33;43mr\u001b[39;49m\u001b[33;43m'\u001b[39;49m\u001b[33;43m\\\u001b[39;49m\u001b[33;43mZ[\u001b[39;49m\u001b[33;43m\\\u001b[39;49m\u001b[33;43mw@\u001b[39;49m\u001b[33;43m\\\u001b[39;49m\u001b[33;43mw+\u001b[39;49m\u001b[33;43m\\\u001b[39;49m\u001b[33;43m.(com|net|org)\u001b[39;49m\u001b[33;43m'\u001b[39;49m\u001b[43m)\u001b[49m\n",
            "\u001b[36mFile \u001b[39m\u001b[32mc:\\Users\\kracr\\AppData\\Local\\Programs\\Python\\Python313\\Lib\\re\\__init__.py:289\u001b[39m, in \u001b[36mcompile\u001b[39m\u001b[34m(pattern, flags)\u001b[39m\n\u001b[32m    287\u001b[39m \u001b[38;5;28;01mdef\u001b[39;00m\u001b[38;5;250m \u001b[39m\u001b[34mcompile\u001b[39m(pattern, flags=\u001b[32m0\u001b[39m):\n\u001b[32m    288\u001b[39m     \u001b[33m\"\u001b[39m\u001b[33mCompile a regular expression pattern, returning a Pattern object.\u001b[39m\u001b[33m\"\u001b[39m\n\u001b[32m--> \u001b[39m\u001b[32m289\u001b[39m     \u001b[38;5;28;01mreturn\u001b[39;00m \u001b[43m_compile\u001b[49m\u001b[43m(\u001b[49m\u001b[43mpattern\u001b[49m\u001b[43m,\u001b[49m\u001b[43m \u001b[49m\u001b[43mflags\u001b[49m\u001b[43m)\u001b[49m\n",
            "\u001b[36mFile \u001b[39m\u001b[32mc:\\Users\\kracr\\AppData\\Local\\Programs\\Python\\Python313\\Lib\\re\\__init__.py:350\u001b[39m, in \u001b[36m_compile\u001b[39m\u001b[34m(pattern, flags)\u001b[39m\n\u001b[32m    348\u001b[39m \u001b[38;5;28;01mif\u001b[39;00m \u001b[38;5;129;01mnot\u001b[39;00m _compiler.isstring(pattern):\n\u001b[32m    349\u001b[39m     \u001b[38;5;28;01mraise\u001b[39;00m \u001b[38;5;167;01mTypeError\u001b[39;00m(\u001b[33m\"\u001b[39m\u001b[33mfirst argument must be string or compiled pattern\u001b[39m\u001b[33m\"\u001b[39m)\n\u001b[32m--> \u001b[39m\u001b[32m350\u001b[39m p = \u001b[43m_compiler\u001b[49m\u001b[43m.\u001b[49m\u001b[43mcompile\u001b[49m\u001b[43m(\u001b[49m\u001b[43mpattern\u001b[49m\u001b[43m,\u001b[49m\u001b[43m \u001b[49m\u001b[43mflags\u001b[49m\u001b[43m)\u001b[49m\n\u001b[32m    351\u001b[39m \u001b[38;5;28;01mif\u001b[39;00m flags & DEBUG:\n\u001b[32m    352\u001b[39m     \u001b[38;5;28;01mreturn\u001b[39;00m p\n",
            "\u001b[36mFile \u001b[39m\u001b[32mc:\\Users\\kracr\\AppData\\Local\\Programs\\Python\\Python313\\Lib\\re\\_compiler.py:748\u001b[39m, in \u001b[36mcompile\u001b[39m\u001b[34m(p, flags)\u001b[39m\n\u001b[32m    746\u001b[39m \u001b[38;5;28;01mif\u001b[39;00m isstring(p):\n\u001b[32m    747\u001b[39m     pattern = p\n\u001b[32m--> \u001b[39m\u001b[32m748\u001b[39m     p = \u001b[43m_parser\u001b[49m\u001b[43m.\u001b[49m\u001b[43mparse\u001b[49m\u001b[43m(\u001b[49m\u001b[43mp\u001b[49m\u001b[43m,\u001b[49m\u001b[43m \u001b[49m\u001b[43mflags\u001b[49m\u001b[43m)\u001b[49m\n\u001b[32m    749\u001b[39m \u001b[38;5;28;01melse\u001b[39;00m:\n\u001b[32m    750\u001b[39m     pattern = \u001b[38;5;28;01mNone\u001b[39;00m\n",
            "\u001b[36mFile \u001b[39m\u001b[32mc:\\Users\\kracr\\AppData\\Local\\Programs\\Python\\Python313\\Lib\\re\\_parser.py:980\u001b[39m, in \u001b[36mparse\u001b[39m\u001b[34m(str, flags, state)\u001b[39m\n\u001b[32m    977\u001b[39m state.flags = flags\n\u001b[32m    978\u001b[39m state.str = \u001b[38;5;28mstr\u001b[39m\n\u001b[32m--> \u001b[39m\u001b[32m980\u001b[39m p = \u001b[43m_parse_sub\u001b[49m\u001b[43m(\u001b[49m\u001b[43msource\u001b[49m\u001b[43m,\u001b[49m\u001b[43m \u001b[49m\u001b[43mstate\u001b[49m\u001b[43m,\u001b[49m\u001b[43m \u001b[49m\u001b[43mflags\u001b[49m\u001b[43m \u001b[49m\u001b[43m&\u001b[49m\u001b[43m \u001b[49m\u001b[43mSRE_FLAG_VERBOSE\u001b[49m\u001b[43m,\u001b[49m\u001b[43m \u001b[49m\u001b[32;43m0\u001b[39;49m\u001b[43m)\u001b[49m\n\u001b[32m    981\u001b[39m p.state.flags = fix_flags(\u001b[38;5;28mstr\u001b[39m, p.state.flags)\n\u001b[32m    983\u001b[39m \u001b[38;5;28;01mif\u001b[39;00m source.next \u001b[38;5;129;01mis\u001b[39;00m \u001b[38;5;129;01mnot\u001b[39;00m \u001b[38;5;28;01mNone\u001b[39;00m:\n",
            "\u001b[36mFile \u001b[39m\u001b[32mc:\\Users\\kracr\\AppData\\Local\\Programs\\Python\\Python313\\Lib\\re\\_parser.py:459\u001b[39m, in \u001b[36m_parse_sub\u001b[39m\u001b[34m(source, state, verbose, nested)\u001b[39m\n\u001b[32m    457\u001b[39m start = source.tell()\n\u001b[32m    458\u001b[39m \u001b[38;5;28;01mwhile\u001b[39;00m \u001b[38;5;28;01mTrue\u001b[39;00m:\n\u001b[32m--> \u001b[39m\u001b[32m459\u001b[39m     itemsappend(\u001b[43m_parse\u001b[49m\u001b[43m(\u001b[49m\u001b[43msource\u001b[49m\u001b[43m,\u001b[49m\u001b[43m \u001b[49m\u001b[43mstate\u001b[49m\u001b[43m,\u001b[49m\u001b[43m \u001b[49m\u001b[43mverbose\u001b[49m\u001b[43m,\u001b[49m\u001b[43m \u001b[49m\u001b[43mnested\u001b[49m\u001b[43m \u001b[49m\u001b[43m+\u001b[49m\u001b[43m \u001b[49m\u001b[32;43m1\u001b[39;49m\u001b[43m,\u001b[49m\n\u001b[32m    460\u001b[39m \u001b[43m                       \u001b[49m\u001b[38;5;129;43;01mnot\u001b[39;49;00m\u001b[43m \u001b[49m\u001b[43mnested\u001b[49m\u001b[43m \u001b[49m\u001b[38;5;129;43;01mand\u001b[39;49;00m\u001b[43m \u001b[49m\u001b[38;5;129;43;01mnot\u001b[39;49;00m\u001b[43m \u001b[49m\u001b[43mitems\u001b[49m\u001b[43m)\u001b[49m)\n\u001b[32m    461\u001b[39m     \u001b[38;5;28;01mif\u001b[39;00m \u001b[38;5;129;01mnot\u001b[39;00m sourcematch(\u001b[33m\"\u001b[39m\u001b[33m|\u001b[39m\u001b[33m\"\u001b[39m):\n\u001b[32m    462\u001b[39m         \u001b[38;5;28;01mbreak\u001b[39;00m\n",
            "\u001b[36mFile \u001b[39m\u001b[32mc:\\Users\\kracr\\AppData\\Local\\Programs\\Python\\Python313\\Lib\\re\\_parser.py:567\u001b[39m, in \u001b[36m_parse\u001b[39m\u001b[34m(source, state, verbose, nested, first)\u001b[39m\n\u001b[32m    565\u001b[39m this = sourceget()\n\u001b[32m    566\u001b[39m \u001b[38;5;28;01mif\u001b[39;00m this \u001b[38;5;129;01mis\u001b[39;00m \u001b[38;5;28;01mNone\u001b[39;00m:\n\u001b[32m--> \u001b[39m\u001b[32m567\u001b[39m     \u001b[38;5;28;01mraise\u001b[39;00m source.error(\u001b[33m\"\u001b[39m\u001b[33munterminated character set\u001b[39m\u001b[33m\"\u001b[39m,\n\u001b[32m    568\u001b[39m                        source.tell() - here)\n\u001b[32m    569\u001b[39m \u001b[38;5;28;01mif\u001b[39;00m this == \u001b[33m\"\u001b[39m\u001b[33m]\u001b[39m\u001b[33m\"\u001b[39m \u001b[38;5;129;01mand\u001b[39;00m \u001b[38;5;28mset\u001b[39m:\n\u001b[32m    570\u001b[39m     \u001b[38;5;28;01mbreak\u001b[39;00m\n",
            "\u001b[31mPatternError\u001b[39m: unterminated character set at position 2"
          ]
        }
      ],
      "source": [
        "emails = [\n",
        "    \"a.email@example.com\",          # Valid\n",
        "    \"lovelyson@@example.com\",       # Invalid (double @)\n",
        "    \".something.dot@example.com\",   # Valid\n",
        "    \"user@domain_something\",        # Invalid (missing .com/.net)\n",
        "    \"correct_123@valid.com\",        # Valid\n",
        "    \"i.am.a.studentg@.com\",         # Invalid (missing domain)\n",
        "    \"123user@example.org\",          # Valid\n",
        "    \"my_name_is@site.net\",          # Valid\n",
        "    \"hello@domain..com\",            # Invalid (double dots in domain)\n",
        "    \"me@sub.domain.com\"             # Valid\n",
        "]\n",
        "\n",
        "objRegEx = re.compile(r'^[a-zA-Z0-9._]+@[a-zA-Z0-9-]+(?:\\.[a-zA-Z0-9-]+)*\\.(com|net|org)$')\n",
        "\n",
        "\n"
      ]
    },
    {
      "cell_type": "markdown",
      "metadata": {
        "id": "27fQFr6tNnT5"
      },
      "source": [
        "5) Ensure an IP address follows X.Y.X.Y format, where first and third octets are the same, and second and fourth are the same. An octet goes from 0-255."
      ]
    },
    {
      "cell_type": "code",
      "execution_count": null,
      "metadata": {
        "id": "yfh5VaILNnT5",
        "outputId": "8749bf87-e364-4ead-e5ba-fc24083cd6b3"
      },
      "outputs": [
        {
          "name": "stdout",
          "output_type": "stream",
          "text": [
            "192.168.192.168 Valid\n",
            "10.10.10.10 Valid\n",
            "172.16.172.16 Valid\n",
            "8.8.8.8 Valid\n",
            "1.2.1.2 Valid\n",
            "192.168.1.1 Invalid\n",
            "10.0.11.0 Invalid\n",
            "255.255.250.0 Invalid\n",
            "300.10.300.10 Invalid\n",
            "172.16.32.16 Invalid\n"
          ]
        }
      ],
      "source": [
        "ips = [\n",
        "    \"192.168.192.168\",  # Valid: First and third octet match, second and fourth match\n",
        "    \"10.10.10.10\",      # Valid: All octets match (10.10.10.10)\n",
        "    \"172.16.172.16\",    # Valid: First and third match, second and fourth match\n",
        "    \"8.8.8.8\",          # Valid: All octets match (Google DNS)\n",
        "    \"1.2.1.2\",          # Valid: First and third match, second and fourth match\n",
        "    \"192.168.1.1\",      # Invalid: Third octet (1) ≠ first (192)\n",
        "    \"10.0.11.0\",        # Invalid: Third octet (11) ≠ first (10)\n",
        "    \"255.255.250.0\",    # Invalid: Third octet (250) ≠ first (255)\n",
        "    \"300.10.300.10\",    # Invalid: 300 is out of the valid IP range (0-255)\n",
        "    \"172.16.32.16\"      # Invalid: Third octet (32) ≠ first (172)\n",
        "]"
      ]
    }
  ],
  "metadata": {
    "colab": {
      "provenance": []
    },
    "kernelspec": {
      "display_name": "Python 3",
      "language": "python",
      "name": "python3"
    },
    "language_info": {
      "codemirror_mode": {
        "name": "ipython",
        "version": 3
      },
      "file_extension": ".py",
      "mimetype": "text/x-python",
      "name": "python",
      "nbconvert_exporter": "python",
      "pygments_lexer": "ipython3",
      "version": "3.13.5"
    },
    "orig_nbformat": 4
  },
  "nbformat": 4,
  "nbformat_minor": 0
}
